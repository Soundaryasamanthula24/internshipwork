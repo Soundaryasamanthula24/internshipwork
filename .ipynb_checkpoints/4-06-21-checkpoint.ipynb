{
 "cells": [
  {
   "cell_type": "markdown",
   "id": "2b0be63f",
   "metadata": {},
   "source": [
    "# Functions\n",
    "\n",
    "- to perform a specific task\n",
    "- reusability of code\n",
    "- number of lines can be decreased\n",
    "- predefined functions, userdefined functions\n",
    "\n",
    "# Predefined functions\n",
    "\n",
    "- Already work has been allocated for it\n",
    "- print(),range(),int(),str(),input()\n",
    "\n",
    "# Userdefined functions\n",
    "\n",
    "- We need to allocate work for a function\n",
    "- syntax:\n",
    "    def function_name(arguments):\n",
    "        //stmnts\n",
    "        return return_value\n",
    "\n",
    "# Types of functions:\n",
    "\n",
    "- with return with argument\n",
    "- with return without argument\n",
    "- without return and with arguments\n",
    "- without return and without arguments"
   ]
  },
  {
   "cell_type": "code",
   "execution_count": 1,
   "id": "6be036fe",
   "metadata": {},
   "outputs": [
    {
     "name": "stdout",
     "output_type": "stream",
     "text": [
      "23\n",
      "[1, 2, 3, 4, 5, 6, 7, 8, 9, 10, 11, 12, 13, 14, 15, 16, 17, 18, 19, 20, 21, 22]\n",
      "1 2 3 4 5 6 7 8 9 10 11 12 13 14 15 16 17 18 19 20 21 22 "
     ]
    }
   ],
   "source": [
    "# with return type and with arguments\n",
    "def printnumbers(s):\n",
    "    j = []\n",
    "    for b in range(1,s):\n",
    "        j.append(b)\n",
    "    return j\n",
    "\n",
    "n=int(input())\n",
    "print(printnumbers(n)) # prints numbers in a list format\n",
    "for i in range(1,len(printnumbers(n))+1):\n",
    "              print(i, end = \" \")"
   ]
  },
  {
   "cell_type": "code",
   "execution_count": 2,
   "id": "b9daa24c",
   "metadata": {},
   "outputs": [
    {
     "name": "stdout",
     "output_type": "stream",
     "text": [
      "22\n",
      "2 4 6 8 10 12 14 16 18 20 22 "
     ]
    }
   ],
   "source": [
    "# with return type and without arguments\n",
    "#reading inputs - in function only\n",
    "# Even numbers printing from 1 to given range\n",
    "def evennumbers():\n",
    "    k,c = int(input()),[]\n",
    "    for b in range(1,k+1):\n",
    "        if(b%2==0):\n",
    "            c.append(b)\n",
    "    return c\n",
    "\n",
    "d = evennumbers()\n",
    "for z in d:\n",
    "    print(z, end=\" \")"
   ]
  },
  {
   "cell_type": "code",
   "execution_count": 3,
   "id": "9553a6a6",
   "metadata": {},
   "outputs": [
    {
     "name": "stdout",
     "output_type": "stream",
     "text": [
      "23\n",
      "1 3 5 7 9 11 13 15 17 19 21 23 "
     ]
    }
   ],
   "source": [
    "# without return type and with arguments\n",
    "#reading inputs - in main function\n",
    "# printing through function\n",
    "\n",
    "def oddnumbers(m):\n",
    "    for i in range(1,m+1):\n",
    "        if i%2!=0:\n",
    "            print(i,end=\" \")\n",
    "\n",
    "b = int(input())\n",
    "oddnumbers(b)"
   ]
  },
  {
   "cell_type": "code",
   "execution_count": 4,
   "id": "16999466",
   "metadata": {},
   "outputs": [
    {
     "name": "stdout",
     "output_type": "stream",
     "text": [
      "12\n",
      "45\n",
      "32\n",
      "12 44 "
     ]
    }
   ],
   "source": [
    "# without return type and without arguments\n",
    "#reading inputs - in function\n",
    "# printing through function\n",
    "# here return statement returns nothing\n",
    "\n",
    "def skippingvalues():\n",
    "    n = int(input())\n",
    "    m = int(input())\n",
    "    s = int(input())\n",
    "    for i in range(n,m,s):\n",
    "        print(i,end=\" \")\n",
    "    return\n",
    "\n",
    "skippingvalues()"
   ]
  },
  {
   "cell_type": "markdown",
   "id": "12585a8a",
   "metadata": {},
   "source": [
    "# Task - to display even and odd numbers in a string"
   ]
  },
  {
   "cell_type": "code",
   "execution_count": 5,
   "id": "d4426aa0",
   "metadata": {},
   "outputs": [
    {
     "name": "stdout",
     "output_type": "stream",
     "text": [
      "Enter a number: 234\n",
      "Given number is:  234\n",
      "Even numbers are:  2 4\n",
      "Odd numbers are:  3\n"
     ]
    }
   ],
   "source": [
    "def Number(n):\n",
    "    k1=[]\n",
    "    k2=[]\n",
    "    for i in n:\n",
    "        if(int(i)%2==0):\n",
    "            k1.append(i)\n",
    "        else:\n",
    "            k2.append(i)\n",
    "    a = \" \".join(k1)\n",
    "    b = \" \".join(k2)\n",
    "    print(\"Even numbers are: \",a)\n",
    "    print(\"Odd numbers are: \",b)\n",
    "    \n",
    "num = input(\"Enter a number: \")\n",
    "print(\"Given number is: \",num)\n",
    "Number(num)"
   ]
  },
  {
   "cell_type": "markdown",
   "id": "777ab532",
   "metadata": {},
   "source": [
    "# Arguments Types:\n",
    " - Required arguments or positional arguments\n",
    " - default arguments\n",
    " - keyword arguments\n",
    " - variable length arguments"
   ]
  },
  {
   "cell_type": "code",
   "execution_count": 7,
   "id": "bd5d9c9f",
   "metadata": {},
   "outputs": [
    {
     "name": "stdout",
     "output_type": "stream",
     "text": [
      "Enter a name: soundarya\n",
      "Enter your age: 21\n",
      "Your name is soundarya and your age is: 21\n"
     ]
    }
   ],
   "source": [
    "# required arguments\n",
    "\n",
    "def student(n,a):\n",
    "    print(\"Your name is {} and your age is: {}\".format(n,a))\n",
    "    return\n",
    "\n",
    "\n",
    "name = input(\"Enter a name: \")\n",
    "age = int(input(\"Enter your age: \"))\n",
    "student(name,age)"
   ]
  },
  {
   "cell_type": "code",
   "execution_count": 8,
   "id": "9915d9c5",
   "metadata": {},
   "outputs": [
    {
     "name": "stdout",
     "output_type": "stream",
     "text": [
      "Enter a name: soundarya\n",
      "Enter your age: 21\n",
      "Your name is 21 and your age is: soundarya\n"
     ]
    }
   ],
   "source": [
    "# required arguments\n",
    "# if position of arguments are reversed\n",
    "def student(n,a):\n",
    "    print(\"Your name is {} and your age is: {}\".format(a,n))\n",
    "    return\n",
    "\n",
    "\n",
    "name = input(\"Enter a name: \")\n",
    "age = int(input(\"Enter your age: \"))\n",
    "student(name,age)"
   ]
  },
  {
   "cell_type": "code",
   "execution_count": 9,
   "id": "b18f4a97",
   "metadata": {},
   "outputs": [
    {
     "name": "stdout",
     "output_type": "stream",
     "text": [
      "Enter a name: fff\n",
      "Enter your age: 34\n"
     ]
    },
    {
     "ename": "TypeError",
     "evalue": "student() missing 1 required positional argument: 'p'",
     "output_type": "error",
     "traceback": [
      "\u001b[1;31m---------------------------------------------------------------------------\u001b[0m",
      "\u001b[1;31mTypeError\u001b[0m                                 Traceback (most recent call last)",
      "\u001b[1;32m<ipython-input-9-4bccde3bd4d3>\u001b[0m in \u001b[0;36m<module>\u001b[1;34m\u001b[0m\n\u001b[0;32m      8\u001b[0m \u001b[0mname\u001b[0m \u001b[1;33m=\u001b[0m \u001b[0minput\u001b[0m\u001b[1;33m(\u001b[0m\u001b[1;34m\"Enter a name: \"\u001b[0m\u001b[1;33m)\u001b[0m\u001b[1;33m\u001b[0m\u001b[1;33m\u001b[0m\u001b[0m\n\u001b[0;32m      9\u001b[0m \u001b[0mage\u001b[0m \u001b[1;33m=\u001b[0m \u001b[0mint\u001b[0m\u001b[1;33m(\u001b[0m\u001b[0minput\u001b[0m\u001b[1;33m(\u001b[0m\u001b[1;34m\"Enter your age: \"\u001b[0m\u001b[1;33m)\u001b[0m\u001b[1;33m)\u001b[0m\u001b[1;33m\u001b[0m\u001b[1;33m\u001b[0m\u001b[0m\n\u001b[1;32m---> 10\u001b[1;33m \u001b[0mstudent\u001b[0m\u001b[1;33m(\u001b[0m\u001b[0mname\u001b[0m\u001b[1;33m,\u001b[0m\u001b[0mage\u001b[0m\u001b[1;33m)\u001b[0m\u001b[1;33m\u001b[0m\u001b[1;33m\u001b[0m\u001b[0m\n\u001b[0m",
      "\u001b[1;31mTypeError\u001b[0m: student() missing 1 required positional argument: 'p'"
     ]
    }
   ],
   "source": [
    "# required arguments\n",
    "# arguments in fuction definition as well as in function call must be same\n",
    "def student(n,a,p):\n",
    "    print(\"Your name is {} and your age is: {}\".format(a,n))\n",
    "    return\n",
    "\n",
    "\n",
    "name = input(\"Enter a name: \")\n",
    "age = int(input(\"Enter your age: \"))\n",
    "student(name,age)"
   ]
  },
  {
   "cell_type": "code",
   "execution_count": 10,
   "id": "adabaa87",
   "metadata": {},
   "outputs": [
    {
     "name": "stdout",
     "output_type": "stream",
     "text": [
      "Enter employee name: soundarya\n",
      "Enter employee age: 24\n",
      "Employee name is : soundarya\n",
      "Employee age is 24\n",
      "Employee salary is: 45000\n"
     ]
    }
   ],
   "source": [
    "# Default arguments\n",
    "\n",
    "def employee(k,p,s=45000):\n",
    "    print(\"Employee name is : {}\\nEmployee age is {}\\nEmployee salary is: {}\".format(k,p,s))\n",
    "    return\n",
    "\n",
    "n = input(\"Enter employee name: \")\n",
    "m = input(\"Enter employee age: \")\n",
    "employee(n,m)"
   ]
  },
  {
   "cell_type": "code",
   "execution_count": 11,
   "id": "020493c4",
   "metadata": {},
   "outputs": [
    {
     "name": "stdout",
     "output_type": "stream",
     "text": [
      "Enter employee age: 24\n",
      "Employee name is : aaa\n",
      "Employee age is 24\n",
      "Employee salary is: 45000\n"
     ]
    }
   ],
   "source": [
    "# Default arguments\n",
    "# non default argument follows default argument\n",
    "\n",
    "def employee(p,k='aaa',s=45000):\n",
    "    print(\"Employee name is : {}\\nEmployee age is {}\\nEmployee salary is: {}\".format(k,p,s))\n",
    "    return\n",
    "\n",
    "#n = input(\"Enter employee name: \")\n",
    "m = input(\"Enter employee age: \")\n",
    "employee(m)"
   ]
  },
  {
   "cell_type": "code",
   "execution_count": 12,
   "id": "d0766f0f",
   "metadata": {},
   "outputs": [
    {
     "name": "stdout",
     "output_type": "stream",
     "text": [
      "Enter your collegename: pace\n",
      "Enter your year: 2\n",
      "Your college name is : pace\n",
      "Your year is: 2\n",
      "your place is ongole\n"
     ]
    }
   ],
   "source": [
    "# Keyword argument\n",
    "\n",
    "def college(cname,year,pl=\"ongole\"):\n",
    "    print(\"Your college name is : {}\\nYour year is: {}\\nyour place is {}\".format(cname,year,pl))\n",
    "    return\n",
    "\n",
    "cname1 = input(\"Enter your collegename: \")\n",
    "year1 = int(input(\"Enter your year: \"))\n",
    "college(cname1,year1)"
   ]
  },
  {
   "cell_type": "code",
   "execution_count": 13,
   "id": "129a3ff2",
   "metadata": {},
   "outputs": [
    {
     "name": "stdout",
     "output_type": "stream",
     "text": [
      "Enter your collegename: pace\n",
      "Enter your year: 2\n"
     ]
    },
    {
     "ename": "IndexError",
     "evalue": "tuple index out of range",
     "output_type": "error",
     "traceback": [
      "\u001b[1;31m---------------------------------------------------------------------------\u001b[0m",
      "\u001b[1;31mIndexError\u001b[0m                                Traceback (most recent call last)",
      "\u001b[1;32m<ipython-input-13-ddf94ae376da>\u001b[0m in \u001b[0;36m<module>\u001b[1;34m\u001b[0m\n\u001b[0;32m      5\u001b[0m \u001b[1;31m#cname1 = input(\"Enter your collegename: \")\u001b[0m\u001b[1;33m\u001b[0m\u001b[1;33m\u001b[0m\u001b[1;33m\u001b[0m\u001b[0m\n\u001b[0;32m      6\u001b[0m \u001b[1;31m#year1 = int(input(\"Enter your year: \"))\u001b[0m\u001b[1;33m\u001b[0m\u001b[1;33m\u001b[0m\u001b[1;33m\u001b[0m\u001b[0m\n\u001b[1;32m----> 7\u001b[1;33m \u001b[0mcollege\u001b[0m\u001b[1;33m(\u001b[0m\u001b[0mcname\u001b[0m\u001b[1;33m=\u001b[0m\u001b[0minput\u001b[0m\u001b[1;33m(\u001b[0m\u001b[1;34m\"Enter your collegename: \"\u001b[0m\u001b[1;33m)\u001b[0m\u001b[1;33m,\u001b[0m\u001b[0myear\u001b[0m\u001b[1;33m=\u001b[0m\u001b[0mint\u001b[0m\u001b[1;33m(\u001b[0m\u001b[0minput\u001b[0m\u001b[1;33m(\u001b[0m\u001b[1;34m\"Enter your year: \"\u001b[0m\u001b[1;33m)\u001b[0m\u001b[1;33m)\u001b[0m\u001b[1;33m)\u001b[0m\u001b[1;33m\u001b[0m\u001b[1;33m\u001b[0m\u001b[0m\n\u001b[0m",
      "\u001b[1;32m<ipython-input-13-ddf94ae376da>\u001b[0m in \u001b[0;36mcollege\u001b[1;34m(cname, year)\u001b[0m\n\u001b[0;32m      1\u001b[0m \u001b[1;32mdef\u001b[0m \u001b[0mcollege\u001b[0m\u001b[1;33m(\u001b[0m\u001b[0mcname\u001b[0m\u001b[1;33m,\u001b[0m\u001b[0myear\u001b[0m\u001b[1;33m)\u001b[0m\u001b[1;33m:\u001b[0m\u001b[1;33m\u001b[0m\u001b[1;33m\u001b[0m\u001b[0m\n\u001b[1;32m----> 2\u001b[1;33m     \u001b[0mprint\u001b[0m\u001b[1;33m(\u001b[0m\u001b[1;34m\"Your college name is : {}\\nYour year is: {}\\nyour place is {}\"\u001b[0m\u001b[1;33m.\u001b[0m\u001b[0mformat\u001b[0m\u001b[1;33m(\u001b[0m\u001b[0mcname\u001b[0m\u001b[1;33m,\u001b[0m\u001b[0myear\u001b[0m\u001b[1;33m)\u001b[0m\u001b[1;33m)\u001b[0m\u001b[1;33m\u001b[0m\u001b[1;33m\u001b[0m\u001b[0m\n\u001b[0m\u001b[0;32m      3\u001b[0m     \u001b[1;32mreturn\u001b[0m\u001b[1;33m\u001b[0m\u001b[1;33m\u001b[0m\u001b[0m\n\u001b[0;32m      4\u001b[0m \u001b[1;33m\u001b[0m\u001b[0m\n\u001b[0;32m      5\u001b[0m \u001b[1;31m#cname1 = input(\"Enter your collegename: \")\u001b[0m\u001b[1;33m\u001b[0m\u001b[1;33m\u001b[0m\u001b[1;33m\u001b[0m\u001b[0m\n",
      "\u001b[1;31mIndexError\u001b[0m: tuple index out of range"
     ]
    }
   ],
   "source": [
    "def college(cname,year):\n",
    "    print(\"Your college name is : {}\\nYour year is: {}\\nyour place is {}\".format(cname,year))\n",
    "    return\n",
    "\n",
    "#cname1 = input(\"Enter your collegename: \")\n",
    "#year1 = int(input(\"Enter your year: \"))\n",
    "college(cname=input(\"Enter your collegename: \"),year=int(input(\"Enter your year: \")))"
   ]
  },
  {
   "cell_type": "code",
   "execution_count": 14,
   "id": "eaa4656b",
   "metadata": {},
   "outputs": [
    {
     "name": "stdout",
     "output_type": "stream",
     "text": [
      "123456\n",
      "1 2 3 4 5\n",
      "123456 <class 'int'>\n",
      "(['1', '2', '3', '4', '5'],) <class 'tuple'>\n"
     ]
    }
   ],
   "source": [
    "# Variable length arguments\n",
    "\n",
    "def number(y,*p):\n",
    "    print(y,type(y))\n",
    "    print(p,type(p))\n",
    "    return\n",
    "\n",
    "b = int(input())\n",
    "k = input().split()\n",
    "number(b,k)"
   ]
  },
  {
   "cell_type": "code",
   "execution_count": 15,
   "id": "52b5282e",
   "metadata": {},
   "outputs": [
    {
     "name": "stdout",
     "output_type": "stream",
     "text": [
      "56\n",
      "75\n",
      "34\n",
      "56 <class 'int'>\n",
      "('75', '34') <class 'tuple'>\n",
      "109\n"
     ]
    }
   ],
   "source": [
    "# Variable length arguments\n",
    "\n",
    "def number(y,*p):\n",
    "    print(y,type(y))\n",
    "    print(p,type(p))\n",
    "    b=[]\n",
    "    for i in p:\n",
    "        b.append(int(i))\n",
    "    print(sum(b))\n",
    "    return\n",
    "\n",
    "b = int(input())\n",
    "k = input()\n",
    "g = input()\n",
    "number(b,k,g)"
   ]
  },
  {
   "cell_type": "code",
   "execution_count": 18,
   "id": "a8aa9ed3",
   "metadata": {},
   "outputs": [
    {
     "name": "stdout",
     "output_type": "stream",
     "text": [
      "Enter a number: 67891\n",
      "Given number is:  67891\n",
      "Even numbers are:  6 8\n",
      "Odd numbers are:  7 9 1\n"
     ]
    }
   ],
   "source": [
    "def Number(n):\n",
    "    k1=[]\n",
    "    k2=[]\n",
    "    for i in n:\n",
    "        if(int(i)%2==0):\n",
    "            k1.append(i)\n",
    "        else:\n",
    "            k2.append(i)\n",
    "    a = \" \".join(k1)\n",
    "    b = \" \".join(k2)\n",
    "    print(\"Even numbers are: \",a)\n",
    "    print(\"Odd numbers are: \",b)\n",
    "    \n",
    "num = input(\"Enter a number: \")\n",
    "print(\"Given number is: \",num)\n",
    "Number(num)"
   ]
  },
  {
   "cell_type": "code",
   "execution_count": null,
   "id": "4991bdf5",
   "metadata": {},
   "outputs": [],
   "source": []
  }
 ],
 "metadata": {
  "kernelspec": {
   "display_name": "Python 3",
   "language": "python",
   "name": "python3"
  },
  "language_info": {
   "codemirror_mode": {
    "name": "ipython",
    "version": 3
   },
   "file_extension": ".py",
   "mimetype": "text/x-python",
   "name": "python",
   "nbconvert_exporter": "python",
   "pygments_lexer": "ipython3",
   "version": "3.7.4"
  }
 },
 "nbformat": 4,
 "nbformat_minor": 5
}
