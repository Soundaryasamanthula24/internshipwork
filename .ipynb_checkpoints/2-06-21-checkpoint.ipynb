{
 "cells": [
  {
   "cell_type": "markdown",
   "id": "a8cdfe98",
   "metadata": {},
   "source": [
    "# Strings\n",
    "- it can be represented in single or double quotes\n",
    "- it can be typecasted as str()\n",
    "- it has index and slicing can be done\n",
    "- it can change the character but it does not effect the original string"
   ]
  },
  {
   "cell_type": "code",
   "execution_count": 1,
   "id": "2ccf9ba2",
   "metadata": {},
   "outputs": [
    {
     "name": "stdout",
     "output_type": "stream",
     "text": [
      "soundarya samanthula\n"
     ]
    }
   ],
   "source": [
    "str1 = \"soundarya samanthula\" #initialising the string\n",
    "print(str1)"
   ]
  },
  {
   "cell_type": "code",
   "execution_count": 2,
   "id": "b22d8899",
   "metadata": {},
   "outputs": [
    {
     "name": "stdout",
     "output_type": "stream",
     "text": [
      "r\n",
      "s\n",
      "t\n"
     ]
    }
   ],
   "source": [
    "print(str1[6])\n",
    "print(str1[0])\n",
    "print(str1[-5])"
   ]
  },
  {
   "cell_type": "markdown",
   "id": "53496799",
   "metadata": {},
   "source": [
    "# Ranges\n",
    "``` range(a) range(a,b) range(a,b,c) inclusive range --> exact index exclusive range --> given index range"
   ]
  },
  {
   "cell_type": "code",
   "execution_count": 3,
   "id": "05d1f274",
   "metadata": {},
   "outputs": [
    {
     "name": "stdout",
     "output_type": "stream",
     "text": [
      "soundarya samanthula\n",
      "ya samanthula\n",
      "soundarya samanthula\n",
      "soundarya sam\n",
      "soundarya s\n"
     ]
    }
   ],
   "source": [
    "print(str1)\n",
    "print(str1[7:])\n",
    "print(str1[:])\n",
    "print(str1[:13])\n",
    "print(str1[0:-9])"
   ]
  },
  {
   "cell_type": "code",
   "execution_count": 4,
   "id": "0bc8585f",
   "metadata": {},
   "outputs": [
    {
     "name": "stdout",
     "output_type": "stream",
     "text": [
      "aluhtnamas ayradnuos\n"
     ]
    }
   ],
   "source": [
    "print(str1[::-1]) #reversal of string"
   ]
  },
  {
   "cell_type": "code",
   "execution_count": 5,
   "id": "1298a32c",
   "metadata": {},
   "outputs": [
    {
     "name": "stdout",
     "output_type": "stream",
     "text": [
      "ya samant\n"
     ]
    }
   ],
   "source": [
    "print(str1[7:-4])"
   ]
  },
  {
   "cell_type": "code",
   "execution_count": 6,
   "id": "cee324a7",
   "metadata": {},
   "outputs": [
    {
     "name": "stdout",
     "output_type": "stream",
     "text": [
      "soundarya samanthula\n",
      "soundarya samanthula\n",
      "sudrasmnhl\n"
     ]
    }
   ],
   "source": [
    "print(str1)\n",
    "print(str1[::])\n",
    "print(str1[::2])"
   ]
  },
  {
   "cell_type": "code",
   "execution_count": 7,
   "id": "939907f4",
   "metadata": {},
   "outputs": [
    {
     "name": "stdout",
     "output_type": "stream",
     "text": [
      "yradnuos\n",
      "htnamas a\n"
     ]
    }
   ],
   "source": [
    "print(str1[7::-1])\n",
    "print(str1[16:7:-1])"
   ]
  },
  {
   "cell_type": "code",
   "execution_count": 8,
   "id": "47e259b8",
   "metadata": {},
   "outputs": [
    {
     "name": "stdout",
     "output_type": "stream",
     "text": [
      "soundarya samanthula\n",
      "soundar htnamas a\n"
     ]
    }
   ],
   "source": [
    "print(str1)\n",
    "print(str1[:7]+ \" \"+str1[16:7:-1]) #second name reversing"
   ]
  },
  {
   "cell_type": "code",
   "execution_count": 9,
   "id": "9985e107",
   "metadata": {},
   "outputs": [
    {
     "name": "stdout",
     "output_type": "stream",
     "text": [
      "autaa yano\n"
     ]
    }
   ],
   "source": [
    "print(str1[::-2]) # prints string with step value 2 in reverse direction"
   ]
  },
  {
   "cell_type": "code",
   "execution_count": 10,
   "id": "eb34dfe8",
   "metadata": {},
   "outputs": [
    {
     "name": "stdout",
     "output_type": "stream",
     "text": [
      "rya samant\n"
     ]
    }
   ],
   "source": [
    "print(str1[-14:-4])"
   ]
  },
  {
   "cell_type": "code",
   "execution_count": 11,
   "id": "f2b69052",
   "metadata": {},
   "outputs": [
    {
     "name": "stdout",
     "output_type": "stream",
     "text": [
      "Enter a string: tejaswini\n",
      "aswi\n"
     ]
    }
   ],
   "source": [
    "n = input(\"Enter a string: \")\n",
    "print(n[3:-2])"
   ]
  },
  {
   "cell_type": "code",
   "execution_count": 12,
   "id": "3a945b01",
   "metadata": {},
   "outputs": [
    {
     "name": "stdout",
     "output_type": "stream",
     "text": [
      "APSSDC progra\n"
     ]
    }
   ],
   "source": [
    "m=\"APSSDC programs\"\n",
    "print(m[:-2:])"
   ]
  },
  {
   "cell_type": "code",
   "execution_count": 13,
   "id": "e94b7bd3",
   "metadata": {},
   "outputs": [
    {
     "name": "stdout",
     "output_type": "stream",
     "text": [
      "['__add__', '__class__', '__contains__', '__delattr__', '__dir__', '__doc__', '__eq__', '__format__', '__ge__', '__getattribute__', '__getitem__', '__getnewargs__', '__gt__', '__hash__', '__init__', '__init_subclass__', '__iter__', '__le__', '__len__', '__lt__', '__mod__', '__mul__', '__ne__', '__new__', '__reduce__', '__reduce_ex__', '__repr__', '__rmod__', '__rmul__', '__setattr__', '__sizeof__', '__str__', '__subclasshook__', 'capitalize', 'casefold', 'center', 'count', 'encode', 'endswith', 'expandtabs', 'find', 'format', 'format_map', 'index', 'isalnum', 'isalpha', 'isascii', 'isdecimal', 'isdigit', 'isidentifier', 'islower', 'isnumeric', 'isprintable', 'isspace', 'istitle', 'isupper', 'join', 'ljust', 'lower', 'lstrip', 'maketrans', 'partition', 'replace', 'rfind', 'rindex', 'rjust', 'rpartition', 'rsplit', 'rstrip', 'split', 'splitlines', 'startswith', 'strip', 'swapcase', 'title', 'translate', 'upper', 'zfill']\n"
     ]
    }
   ],
   "source": [
    "#string methods\n",
    "print(dir(str))"
   ]
  },
  {
   "cell_type": "code",
   "execution_count": 14,
   "id": "c98bcf57",
   "metadata": {},
   "outputs": [
    {
     "name": "stdout",
     "output_type": "stream",
     "text": [
      "Welcome to APSSDC Programs\n",
      "Welcome to apssdc programs\n"
     ]
    }
   ],
   "source": [
    "s = \"Welcome to APSSDC Programs\"\n",
    "print(s)\n",
    "print(s.capitalize())# converts starting letter of each string to capital if small and  vice versa"
   ]
  },
  {
   "cell_type": "code",
   "execution_count": 15,
   "id": "8f9dfcb2",
   "metadata": {},
   "outputs": [
    {
     "name": "stdout",
     "output_type": "stream",
     "text": [
      "Welcome to APSSDC Programs\n",
      "welcome to apssdc programs\n",
      "Welcome To Apssdc Programs\n",
      "wELCOME TO apssdc pROGRAMS\n"
     ]
    }
   ],
   "source": [
    "print(s) # prints string\n",
    "print(s.casefold()) # prints to small letters \n",
    "print(s.title()) # capitalize each string\n",
    "print(s.swapcase()) #capital to small and small to capital"
   ]
  },
  {
   "cell_type": "code",
   "execution_count": 16,
   "id": "ffb05566",
   "metadata": {},
   "outputs": [
    {
     "name": "stdout",
     "output_type": "stream",
     "text": [
      "Welcome to APSSDC Programs\n",
      "WELCOME TO APSSDC PROGRAMS\n",
      "welcome to apssdc programs\n",
      "False\n",
      "True\n"
     ]
    }
   ],
   "source": [
    "print(s)\n",
    "print(s.upper())\n",
    "print(s.lower())\n",
    "print(s.startswith('w'))\n",
    "print(s.endswith('s'))"
   ]
  },
  {
   "cell_type": "code",
   "execution_count": 17,
   "id": "5e53f1e7",
   "metadata": {},
   "outputs": [
    {
     "name": "stdout",
     "output_type": "stream",
     "text": [
      "Welcome to APSSDC Programs\n",
      "['Welcome', 'to', 'APSSDC', 'Programs']\n",
      "['Welcome', 'to', 'APSSDC', 'Programs']\n",
      "['Welcome to AP', '', 'DC Programs']\n",
      "2\n",
      "13\n",
      "-1\n",
      "6\n",
      "11\n",
      "12\n",
      "18\n",
      "0\n"
     ]
    }
   ],
   "source": [
    "print(s)\n",
    "print(s.split())\n",
    "print(s.split(' '))\n",
    "print(s.split('S'))\n",
    "print(s.count('r'))\n",
    "print(s.find('S'))\n",
    "print(s.find('x'))\n",
    "print(s.rfind('e')) #gives preference of particular char from right to left\n",
    "print(s.index('A'))\n",
    "print(s.index('P'))\n",
    "print(s.rindex('P'))\n",
    "print(s.rindex('W'))"
   ]
  },
  {
   "cell_type": "code",
   "execution_count": 18,
   "id": "1805a4fd",
   "metadata": {},
   "outputs": [
    {
     "name": "stdout",
     "output_type": "stream",
     "text": [
      "soundarya\n",
      "['soundarya']\n"
     ]
    }
   ],
   "source": [
    "n = input().split()\n",
    "print(n)"
   ]
  },
  {
   "cell_type": "code",
   "execution_count": 19,
   "id": "f521b742",
   "metadata": {},
   "outputs": [
    {
     "name": "stdout",
     "output_type": "stream",
     "text": [
      "       soundarya    samanthula     \n",
      "soundarya\n",
      "    samanthula\n",
      "soundarya    samanthula\n"
     ]
    }
   ],
   "source": [
    "# lstrip---> removes left spaces\n",
    "#rstrip ---> removes right spaces\n",
    "\n",
    "a = \"       soundarya\"\n",
    "b = \"    samanthula     \"\n",
    "print(a+b)\n",
    "print(a.lstrip())\n",
    "print(b.rstrip())\n",
    "print(a.lstrip() + b.rstrip())"
   ]
  },
  {
   "cell_type": "code",
   "execution_count": 20,
   "id": "3c2c6369",
   "metadata": {},
   "outputs": [
    {
     "name": "stdout",
     "output_type": "stream",
     "text": [
      "soundarya\n",
      "soundarya           \n",
      "                     soundarya\n",
      "00000000000soundarya\n",
      "-----------soundarya\n"
     ]
    }
   ],
   "source": [
    "a=\"soundarya\"\n",
    "print(a)\n",
    "print(a.ljust(20)) #whitespaces after given string upto 20th position\n",
    "print(a.rjust(30)) #whitespaces before the string upto 30th position\n",
    "b = a.zfill(20) #count of characters becomes 20\n",
    "print(b)\n",
    "print(b.replace('0','-'))"
   ]
  },
  {
   "cell_type": "code",
   "execution_count": 21,
   "id": "730498a2",
   "metadata": {},
   "outputs": [
    {
     "name": "stdout",
     "output_type": "stream",
     "text": [
      "aaaa\n",
      "a a a a\n"
     ]
    }
   ],
   "source": [
    "k = \"aaaa\"\n",
    "a = \" \".join(k)\n",
    "print(k)\n",
    "print(a)"
   ]
  },
  {
   "cell_type": "code",
   "execution_count": 23,
   "id": "a9a38dfd",
   "metadata": {},
   "outputs": [
    {
     "name": "stdout",
     "output_type": "stream",
     "text": [
      "19kq1a0521-soundarya-cse\n",
      "['19kq1a0521', 'soundarya', 'cse']\n",
      "19kq1a0521\n"
     ]
    }
   ],
   "source": [
    "n = input().split(\"-\")\n",
    "print(n)\n",
    "print(n[0])"
   ]
  },
  {
   "cell_type": "code",
   "execution_count": 24,
   "id": "97f125c1",
   "metadata": {},
   "outputs": [
    {
     "name": "stdout",
     "output_type": "stream",
     "text": [
      "12bkjigvb34b6hb\n",
      "12bkjigvb34b6hb\n",
      "12bkjigvb34b6hb\n",
      "12bkjigvb34b6hb\n",
      "12bkjigvb34b6hb\n",
      "12bkjigvb34b6hb\n",
      "12bkjigvb34b6hb\n",
      "12bkjigvb34b6hb\n",
      "12bkjigvb34b6hb\n",
      "12bkjigvb34b6hb\n",
      "12bkjigvb34b6hb\n",
      "12bkjigvb34b6hb\n",
      "12bkjigvb34b6hb\n",
      "12bkjigvb34b6hb\n",
      "12bkjigvb34b6hb\n",
      "1 2 b k j i g v b 3 4 b 6 h b "
     ]
    }
   ],
   "source": [
    "k = \"12bkjigvb34b6hb\"\n",
    "for i in k:\n",
    "    print(k)\n",
    "for i in k:\n",
    "    print(i,end=\" \")"
   ]
  },
  {
   "cell_type": "code",
   "execution_count": 25,
   "id": "2f71f2d8",
   "metadata": {},
   "outputs": [
    {
     "name": "stdout",
     "output_type": "stream",
     "text": [
      "False\n",
      "True\n"
     ]
    }
   ],
   "source": [
    "print(k.isalpha())\n",
    "print(k.isalnum())"
   ]
  },
  {
   "cell_type": "code",
   "execution_count": 26,
   "id": "437fe649",
   "metadata": {},
   "outputs": [
    {
     "name": "stdout",
     "output_type": "stream",
     "text": [
      "soundarya123\n",
      "Given string is:  soundarya123\n",
      "Alphabets in  soundarya123 is:  s o u n d a r y a\n",
      "Digits in  soundarya123 is:  1 2 3\n",
      "Special characters in soundarya123 is:  \n"
     ]
    }
   ],
   "source": [
    "x = input()\n",
    "print(\"Given string is: \",x)\n",
    "l1=[]\n",
    "l2=[]\n",
    "l3=[]\n",
    "for i in x:\n",
    "    if(i.isalpha()):\n",
    "        l1.append(i)\n",
    "    elif(i.isdigit()):\n",
    "        l2.append(i)\n",
    "    else:\n",
    "        l3.append(i)\n",
    "a = \" \".join(l1)\n",
    "b = \" \".join(l2)\n",
    "c = \" \".join(l3)\n",
    "print(\"Alphabets in \",x,\"is: \",a)\n",
    "print(\"Digits in \",x,\"is: \",b)\n",
    "print(\"Special characters in\",x,\"is: \",c)"
   ]
  },
  {
   "cell_type": "code",
   "execution_count": 27,
   "id": "fde79b51",
   "metadata": {},
   "outputs": [
    {
     "name": "stdout",
     "output_type": "stream",
     "text": [
      "soundarya\n",
      "s o u n d a r y a "
     ]
    }
   ],
   "source": [
    "a=input()\n",
    "for i in a:\n",
    "    print(i,end=\" \")"
   ]
  },
  {
   "cell_type": "code",
   "execution_count": null,
   "id": "6c720522",
   "metadata": {},
   "outputs": [],
   "source": []
  }
 ],
 "metadata": {
  "kernelspec": {
   "display_name": "Python 3",
   "language": "python",
   "name": "python3"
  },
  "language_info": {
   "codemirror_mode": {
    "name": "ipython",
    "version": 3
   },
   "file_extension": ".py",
   "mimetype": "text/x-python",
   "name": "python",
   "nbconvert_exporter": "python",
   "pygments_lexer": "ipython3",
   "version": "3.7.4"
  }
 },
 "nbformat": 4,
 "nbformat_minor": 5
}
