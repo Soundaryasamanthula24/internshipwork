{
 "cells": [
  {
   "cell_type": "markdown",
   "id": "6b4810e7",
   "metadata": {},
   "source": [
    "### welcome\n",
    "  "
   ]
  },
  {
   "cell_type": "markdown",
   "id": "5bf0c467",
   "metadata": {},
   "source": [
    "# Outputformat\n"
   ]
  },
  {
   "cell_type": "code",
   "execution_count": 1,
   "id": "ef070ffd",
   "metadata": {},
   "outputs": [
    {
     "name": "stdout",
     "output_type": "stream",
     "text": [
      "Enter a value: 21\n",
      "Enter name: sou\n",
      "Entered number is: 21\n",
      "Entered name is: sou\n"
     ]
    }
   ],
   "source": [
    "n=int(input(\"Enter a value: \"))\n",
    "m=input(\"Enter name: \")\n",
    "print(\"Entered number is: %d\"%n)\n",
    "print(\"Entered name is: %s\"%m)"
   ]
  },
  {
   "cell_type": "code",
   "execution_count": 2,
   "id": "cbca4d45",
   "metadata": {},
   "outputs": [
    {
     "name": "stdout",
     "output_type": "stream",
     "text": [
      "Entered number is: 21 and entered name is: sou\n"
     ]
    }
   ],
   "source": [
    "print(\"Entered number is: %d and entered name is: %s\"%(n,m))"
   ]
  },
  {
   "cell_type": "code",
   "execution_count": 3,
   "id": "55da36c4",
   "metadata": {},
   "outputs": [
    {
     "name": "stdout",
     "output_type": "stream",
     "text": [
      "Entered number is: 21 and entered name is: sou\n",
      "Entered name is: sou and entered number is: 21\n"
     ]
    }
   ],
   "source": [
    "print(\"Entered number is: {} and entered name is: {}\".format(n,m))\n",
    "print(\"Entered name is: {} and entered number is: {}\".format(m,n))"
   ]
  },
  {
   "cell_type": "markdown",
   "id": "06069c92",
   "metadata": {},
   "source": [
    "# Operators\n",
    "   - arithmetic----> +,-,*,/,//,**-exponential\n",
    "   - logical-----> AND,OR,NOT\n",
    "   - bitwise--->&&,||,>>,<<\n",
    "   - relational---> ==,>=,>,<=,<,!=\n",
    "   - assignment----> +=,-=,*=,/=,%=\n",
    "   - membership---> in,not in\n",
    "   - identity----> is,is not"
   ]
  },
  {
   "cell_type": "code",
   "execution_count": 4,
   "id": "efca6116",
   "metadata": {},
   "outputs": [
    {
     "name": "stdout",
     "output_type": "stream",
     "text": [
      "3\n"
     ]
    }
   ],
   "source": [
    "a=15\n",
    "print(a>>2)"
   ]
  },
  {
   "cell_type": "markdown",
   "id": "93abfe5b",
   "metadata": {},
   "source": [
    "# Conditional Statements\n",
    " - to check whether the given condition is true or false\n",
    " - if, if-else, nested if,elif ladder"
   ]
  },
  {
   "cell_type": "markdown",
   "id": "55635386",
   "metadata": {},
   "source": [
    "## if statement\n",
    "   ``` syntax: if(condition): //statements"
   ]
  },
  {
   "cell_type": "code",
   "execution_count": 6,
   "id": "18f3d918",
   "metadata": {},
   "outputs": [
    {
     "name": "stdout",
     "output_type": "stream",
     "text": [
      "21\n",
      "Entered value is 21\n",
      "21\n"
     ]
    }
   ],
   "source": [
    "x=int(input())\n",
    "if x == 21:\n",
    "    print(\"Entered value is {0}\".format(x))\n",
    "    print(x)"
   ]
  },
  {
   "cell_type": "code",
   "execution_count": 1,
   "id": "4530d3df",
   "metadata": {},
   "outputs": [
    {
     "name": "stdout",
     "output_type": "stream",
     "text": [
      "21\n",
      "Entered value is  21\n"
     ]
    }
   ],
   "source": [
    "x=int(input())\n",
    "if x == 21:\n",
    "    print(\"Entered value is \",x)"
   ]
  },
  {
   "cell_type": "markdown",
   "id": "9aff0321",
   "metadata": {},
   "source": [
    "# if else condition"
   ]
  },
  {
   "cell_type": "code",
   "execution_count": 2,
   "id": "3ff48d0d",
   "metadata": {},
   "outputs": [
    {
     "name": "stdout",
     "output_type": "stream",
     "text": [
      "5\n",
      "6\n",
      "Entered values 5 and 6 are unequal\n"
     ]
    }
   ],
   "source": [
    "p=int(input())\n",
    "q=int(input())\n",
    "if p==q:\n",
    "    print(\"Entered values {} and {} are equal\".format(p,q))\n",
    "else:\n",
    "    print(\"Entered values {} and {} are unequal\".format(p,q))"
   ]
  },
  {
   "cell_type": "markdown",
   "id": "8a104d29",
   "metadata": {},
   "source": [
    "# nested if(if inside an if)\n",
    "``` used for one or more cases Syntax is: if(condition-1): if(condition-2): //stmts else: //stmts else: //stmts"
   ]
  },
  {
   "cell_type": "code",
   "execution_count": 3,
   "id": "e20b98d6",
   "metadata": {},
   "outputs": [
    {
     "name": "stdout",
     "output_type": "stream",
     "text": [
      "201\n",
      "Entered value is greater than 200\n"
     ]
    }
   ],
   "source": [
    "n=int(input())\n",
    "if(n<=200):\n",
    "    if(n==100):\n",
    "        print(\"Entered value {} is equal to 100\".format(n))\n",
    "    else:\n",
    "        print(\"Entered value {} is not equal to 100 but it is lower than 200\".format(n))\n",
    "else:\n",
    "    print(\"Entered value is greater than 200\".format(n))"
   ]
  },
  {
   "cell_type": "code",
   "execution_count": 4,
   "id": "0142f51e",
   "metadata": {},
   "outputs": [
    {
     "name": "stdout",
     "output_type": "stream",
     "text": [
      "100\n",
      "Entered value 100 is equal to 100\n"
     ]
    }
   ],
   "source": [
    "n=int(input())\n",
    "if(n<=200):\n",
    "    if(n==100):\n",
    "        print(\"Entered value {} is equal to 100\".format(n))\n",
    "    else:\n",
    "        print(\"Entered value {} is not equal to 100 but it is lower than 200\".format(n))\n",
    "else:\n",
    "    print(\"Entered value is greater than 200\".format(n))"
   ]
  },
  {
   "cell_type": "code",
   "execution_count": 5,
   "id": "a1198bc7",
   "metadata": {},
   "outputs": [
    {
     "name": "stdout",
     "output_type": "stream",
     "text": [
      "21\n",
      "Entered value 21 is not equal to 100 but it is lower than 200\n"
     ]
    }
   ],
   "source": [
    "n=int(input())\n",
    "if(n<=200):\n",
    "    if(n==100):\n",
    "        print(\"Entered value {} is equal to 100\".format(n))\n",
    "    else:\n",
    "        print(\"Entered value {} is not equal to 100 but it is lower than 200\".format(n))\n",
    "else:\n",
    "    print(\"Entered value is greater than 200\".format(n))"
   ]
  },
  {
   "cell_type": "markdown",
   "id": "c0b93b57",
   "metadata": {},
   "source": [
    "# Elif -> Two or more n cases\n",
    "``` Syntax: if(conditon-1): //stmnts elif(condition-2): //stmnts elif(condition-3): //stmnts ............ ............ ............ elif(condition-n): //stmnts else: //stmnts"
   ]
  },
  {
   "cell_type": "code",
   "execution_count": 6,
   "id": "5d472568",
   "metadata": {},
   "outputs": [
    {
     "name": "stdout",
     "output_type": "stream",
     "text": [
      "24\n",
      "Entered value 24 is divisible by 2 and 4\n"
     ]
    }
   ],
   "source": [
    "num=int(input())\n",
    "if num%2 == 0 and num%4==0:\n",
    "    print(\"Entered value {} is divisible by 2 and 4\".format(num))\n",
    "elif num%2==0:\n",
    "    print(\"Entered value {} is divisible by 2\".format(num))\n",
    "else:\n",
    "    print(\"Entered value {} is not divisible by 2\".format(num))"
   ]
  },
  {
   "cell_type": "code",
   "execution_count": 7,
   "id": "6a62335b",
   "metadata": {},
   "outputs": [
    {
     "name": "stdout",
     "output_type": "stream",
     "text": [
      "10\n",
      "Entered value 10 is divisible by 2\n"
     ]
    }
   ],
   "source": [
    "num=int(input())\n",
    "if num%2 == 0 and num%4==0:\n",
    "    print(\"Entered value {} is divisible by 2 and 4\".format(num))\n",
    "elif num%2==0:\n",
    "    print(\"Entered value {} is divisible by 2\".format(num))\n",
    "else:\n",
    "    print(\"Entered value {} is not divisible by 2\".format(num))"
   ]
  },
  {
   "cell_type": "code",
   "execution_count": 8,
   "id": "650ef279",
   "metadata": {},
   "outputs": [
    {
     "name": "stdout",
     "output_type": "stream",
     "text": [
      "43\n",
      "Entered value 43 is not divisible by 2\n"
     ]
    }
   ],
   "source": [
    "num=int(input())\n",
    "if num%2 == 0 and num%4==0:\n",
    "    print(\"Entered value {} is divisible by 2 and 4\".format(num))\n",
    "elif num%2==0:\n",
    "    print(\"Entered value {} is divisible by 2\".format(num))\n",
    "else:\n",
    "    print(\"Entered value {} is not divisible by 2\".format(num))"
   ]
  },
  {
   "cell_type": "markdown",
   "id": "5b1e3c34",
   "metadata": {},
   "source": [
    "# Control Statements, Iterations, loops\n",
    "- to control the flow of execution\n",
    "- For, While"
   ]
  },
  {
   "cell_type": "markdown",
   "id": "552f5e77",
   "metadata": {},
   "source": [
    "# FOR -> [for particular ranges ==> [known ranges]]\n",
    "``` Syntax: for iteration_variable in iterator: //stmnts\n",
    "\n",
    "    for iteration_variable in range():\n",
    "        //stmnts"
   ]
  },
  {
   "cell_type": "code",
   "execution_count": 9,
   "id": "549c58be",
   "metadata": {},
   "outputs": [
    {
     "name": "stdout",
     "output_type": "stream",
     "text": [
      "Enter a range value: 8\n",
      "0\n",
      "1\n",
      "2\n",
      "3\n",
      "4\n",
      "5\n",
      "6\n",
      "7\n"
     ]
    }
   ],
   "source": [
    "n = int(input(\"Enter a range value: \"))\n",
    "for num in range(n):\n",
    "    print(num)"
   ]
  },
  {
   "cell_type": "code",
   "execution_count": 10,
   "id": "851cde68",
   "metadata": {},
   "outputs": [
    {
     "name": "stdout",
     "output_type": "stream",
     "text": [
      "Enter Starting range: 21\n",
      "Enter Ending range: 57\n",
      "21 22 23 24 25 26 27 28 29 30 31 32 33 34 35 36 37 38 39 40 41 42 43 44 45 46 47 48 49 50 51 52 53 54 55 56 "
     ]
    }
   ],
   "source": [
    "p = int(input(\"Enter Starting range: \"))\n",
    "q = int(input(\"Enter Ending range: \"))\n",
    "for i in range(p,q):\n",
    "    print(i, end=\" \")"
   ]
  },
  {
   "cell_type": "code",
   "execution_count": 11,
   "id": "3a070f6b",
   "metadata": {},
   "outputs": [
    {
     "name": "stdout",
     "output_type": "stream",
     "text": [
      "Enter Starting range: 21\n",
      "Enter Ending range: 57\n",
      "Enter Step value: 2\n",
      "21 23 25 27 29 31 33 35 37 39 41 43 45 47 49 51 53 55 "
     ]
    }
   ],
   "source": [
    "p = int(input(\"Enter Starting range: \"))\n",
    "q = int(input(\"Enter Ending range: \"))\n",
    "s = int(input(\"Enter Step value: \"))\n",
    "for i in range(p,q,s):\n",
    "    print(i, end=\" \")"
   ]
  },
  {
   "cell_type": "code",
   "execution_count": 12,
   "id": "4a633cf8",
   "metadata": {},
   "outputs": [
    {
     "name": "stdout",
     "output_type": "stream",
     "text": [
      "Enter Starting range: 21\n",
      "Enter Ending range: 57\n",
      "57 56 55 54 53 52 51 50 49 48 47 46 45 44 43 42 41 40 39 38 37 36 35 34 33 32 31 30 29 28 27 26 25 24 23 22 "
     ]
    }
   ],
   "source": [
    "#numbers in reverse order \n",
    "p = int(input(\"Enter Starting range: \"))\n",
    "q = int(input(\"Enter Ending range: \"))\n",
    "for i in range(q,p,-1):\n",
    "    print(i, end=\" \")"
   ]
  },
  {
   "cell_type": "code",
   "execution_count": 13,
   "id": "4b2716ec",
   "metadata": {},
   "outputs": [
    {
     "name": "stdout",
     "output_type": "stream",
     "text": [
      "Enter Starting range: 10\n",
      "Enter Ending range: 70\n",
      "70 60 50 40 30 20 "
     ]
    }
   ],
   "source": [
    "#numbers in reverse order \n",
    "p = int(input(\"Enter Starting range: \"))\n",
    "q = int(input(\"Enter Ending range: \"))\n",
    "for i in range(q,p,-10):\n",
    "    print(i, end=\" \")"
   ]
  },
  {
   "cell_type": "code",
   "execution_count": 14,
   "id": "b323cd86",
   "metadata": {},
   "outputs": [
    {
     "name": "stdout",
     "output_type": "stream",
     "text": [
      "Enter Starting range: 1\n",
      "Enter Ending range: 50\n",
      "Enter step value to reverse the numbers: 7\n",
      "50 43 36 29 22 15 8 "
     ]
    }
   ],
   "source": [
    "#numbers in reverse order \n",
    "p = int(input(\"Enter Starting range: \"))\n",
    "q = int(input(\"Enter Ending range: \"))\n",
    "s = int(input(\"Enter step value to reverse the numbers: \"))\n",
    "for i in range(q,p,-s):\n",
    "    print(i, end=\" \")"
   ]
  },
  {
   "cell_type": "markdown",
   "id": "aa6e7c8a",
   "metadata": {},
   "source": [
    "# Practice\n",
    "\n",
    "## Basic formatting\n",
    " \n",
    "### example:"
   ]
  },
  {
   "cell_type": "code",
   "execution_count": 15,
   "id": "b52de054",
   "metadata": {},
   "outputs": [
    {
     "name": "stdout",
     "output_type": "stream",
     "text": [
      "soundarya teja\n"
     ]
    }
   ],
   "source": [
    "print('{0} {1}'.format('soundarya','teja'))"
   ]
  },
  {
   "cell_type": "code",
   "execution_count": 16,
   "id": "d9d8547b",
   "metadata": {},
   "outputs": [
    {
     "name": "stdout",
     "output_type": "stream",
     "text": [
      "soundarya soundarya\n",
      "teja teja\n"
     ]
    }
   ],
   "source": [
    "print('{0} {0}'.format('soundarya','teja'))\n",
    "print('{1} {1}'.format('soundarya','teja'))"
   ]
  },
  {
   "cell_type": "code",
   "execution_count": 17,
   "id": "70d631a3",
   "metadata": {},
   "outputs": [
    {
     "name": "stdout",
     "output_type": "stream",
     "text": [
      "teja soundarya\n"
     ]
    }
   ],
   "source": [
    "# reversing the order format\n",
    "print('{1} {0}'.format('soundarya','teja'))"
   ]
  },
  {
   "cell_type": "markdown",
   "id": "c259fced",
   "metadata": {},
   "source": [
    "# Aligning Strings"
   ]
  },
  {
   "cell_type": "code",
   "execution_count": 21,
   "id": "e8e3929a",
   "metadata": {},
   "outputs": [
    {
     "name": "stdout",
     "output_type": "stream",
     "text": [
      "    python\n",
      "      code\n"
     ]
    }
   ],
   "source": [
    "   #right alignment of strings\n",
    "  #here - represents space\n",
    "print('{:>10}'.format('python')) #----python\n",
    "print('{:>10}'.format('code'))   #------code"
   ]
  },
  {
   "cell_type": "code",
   "execution_count": 22,
   "id": "bd1224c0",
   "metadata": {},
   "outputs": [
    {
     "name": "stdout",
     "output_type": "stream",
     "text": [
      "python    \n",
      "code      \n"
     ]
    }
   ],
   "source": [
    "# left alignment of strings\n",
    "print('{:10}'.format('python')) #python----\n",
    "print('{:10}'.format('code'))   #code------"
   ]
  },
  {
   "cell_type": "code",
   "execution_count": 23,
   "id": "444b98b4",
   "metadata": {},
   "outputs": [
    {
     "name": "stdout",
     "output_type": "stream",
     "text": [
      "    python     \n"
     ]
    }
   ],
   "source": [
    "# center alignment\n",
    "print('{:^15}'.format('python'))"
   ]
  },
  {
   "cell_type": "markdown",
   "id": "ced6e777",
   "metadata": {},
   "source": [
    "# Truncating long strings"
   ]
  },
  {
   "cell_type": "code",
   "execution_count": 26,
   "id": "d5bf7d05",
   "metadata": {},
   "outputs": [
    {
     "name": "stdout",
     "output_type": "stream",
     "text": [
      "samanthula\n"
     ]
    }
   ],
   "source": [
    "print('{:.10}'.format('samanthula soundarya'))"
   ]
  },
  {
   "cell_type": "markdown",
   "id": "a6d3ea67",
   "metadata": {},
   "source": [
    "# formatting numbers"
   ]
  },
  {
   "cell_type": "code",
   "execution_count": 28,
   "id": "167a7aca",
   "metadata": {},
   "outputs": [
    {
     "name": "stdout",
     "output_type": "stream",
     "text": [
      "+21\n",
      "-21\n",
      " 21\n"
     ]
    }
   ],
   "source": [
    "print('{:+d}'.format(21)) # number is displayed with positive sign\n",
    "print('{: d}'.format(-21)) # number is displayed with negative sign\n",
    "print('{: d}'.format(21)) # number is displayed"
   ]
  },
  {
   "cell_type": "code",
   "execution_count": 29,
   "id": "d042a41a",
   "metadata": {},
   "outputs": [
    {
     "name": "stdout",
     "output_type": "stream",
     "text": [
      "+  21\n",
      "-  21\n"
     ]
    }
   ],
   "source": [
    "print('{:=+5d}'.format(21))\n",
    "print('{:=5d}'.format(-21))"
   ]
  },
  {
   "cell_type": "code",
   "execution_count": null,
   "id": "7662cf7a",
   "metadata": {},
   "outputs": [],
   "source": []
  }
 ],
 "metadata": {
  "kernelspec": {
   "display_name": "Python 3",
   "language": "python",
   "name": "python3"
  },
  "language_info": {
   "codemirror_mode": {
    "name": "ipython",
    "version": 3
   },
   "file_extension": ".py",
   "mimetype": "text/x-python",
   "name": "python",
   "nbconvert_exporter": "python",
   "pygments_lexer": "ipython3",
   "version": "3.7.4"
  }
 },
 "nbformat": 4,
 "nbformat_minor": 5
}
