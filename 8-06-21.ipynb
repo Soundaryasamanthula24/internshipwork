{
 "cells": [
  {
   "cell_type": "markdown",
   "id": "83e7a820",
   "metadata": {},
   "source": [
    "# oops\n",
    " - class\n",
    " - method\n",
    " - object\n",
    " - constructor\n",
    " - packages and modules by using class\n",
    " - inheritance"
   ]
  },
  {
   "cell_type": "markdown",
   "id": "d30d0148",
   "metadata": {},
   "source": [
    "## class\n",
    " - class is a collection of varibles and methods\n",
    " \n",
    " #### rules to define class\n",
    "  - should not start with number\n",
    "  - not to use keyword\n",
    "  "
   ]
  },
  {
   "cell_type": "code",
   "execution_count": 1,
   "id": "753a922a",
   "metadata": {},
   "outputs": [],
   "source": [
    "class Hi:\n",
    "    name, rollno = \"APSSDC\", 521\n",
    "    def msg():\n",
    "        print(\"hi all, i am from msg()\")\n",
    "    "
   ]
  },
  {
   "cell_type": "code",
   "execution_count": 4,
   "id": "07b172bb",
   "metadata": {},
   "outputs": [
    {
     "data": {
      "text/plain": [
       "'APSSDC'"
      ]
     },
     "execution_count": 4,
     "metadata": {},
     "output_type": "execute_result"
    }
   ],
   "source": [
    "Hi.name"
   ]
  },
  {
   "cell_type": "code",
   "execution_count": 6,
   "id": "0f63090b",
   "metadata": {},
   "outputs": [
    {
     "data": {
      "text/plain": [
       "521"
      ]
     },
     "execution_count": 6,
     "metadata": {},
     "output_type": "execute_result"
    }
   ],
   "source": [
    "Hi.rollno"
   ]
  },
  {
   "cell_type": "code",
   "execution_count": 7,
   "id": "b6f9fc42",
   "metadata": {},
   "outputs": [
    {
     "name": "stdout",
     "output_type": "stream",
     "text": [
      "hi all, i am from msg()\n"
     ]
    }
   ],
   "source": [
    "Hi.msg()"
   ]
  },
  {
   "cell_type": "code",
   "execution_count": 10,
   "id": "e99ea322",
   "metadata": {},
   "outputs": [],
   "source": [
    "obj = Hi"
   ]
  },
  {
   "cell_type": "code",
   "execution_count": 11,
   "id": "511e70de",
   "metadata": {},
   "outputs": [
    {
     "data": {
      "text/plain": [
       "'APSSDC'"
      ]
     },
     "execution_count": 11,
     "metadata": {},
     "output_type": "execute_result"
    }
   ],
   "source": [
    "obj.name"
   ]
  },
  {
   "cell_type": "code",
   "execution_count": 12,
   "id": "46d70196",
   "metadata": {},
   "outputs": [
    {
     "name": "stdout",
     "output_type": "stream",
     "text": [
      "hi all, i am from msg()\n"
     ]
    }
   ],
   "source": [
    "obj.msg()"
   ]
  },
  {
   "cell_type": "code",
   "execution_count": 14,
   "id": "1fc7b1fd",
   "metadata": {},
   "outputs": [],
   "source": [
    "class Calci:\n",
    "    def add(n1,n2):\n",
    "        return n1 + n2\n",
    "    def sub(n1, n2):\n",
    "        return n1 - n2"
   ]
  },
  {
   "cell_type": "code",
   "execution_count": 16,
   "id": "91ca9a9d",
   "metadata": {},
   "outputs": [],
   "source": [
    "cal = Calci"
   ]
  },
  {
   "cell_type": "code",
   "execution_count": 17,
   "id": "714119fe",
   "metadata": {},
   "outputs": [
    {
     "data": {
      "text/plain": [
       "10"
      ]
     },
     "execution_count": 17,
     "metadata": {},
     "output_type": "execute_result"
    }
   ],
   "source": [
    "cal.add(4,6)"
   ]
  },
  {
   "cell_type": "code",
   "execution_count": 18,
   "id": "122f329f",
   "metadata": {},
   "outputs": [
    {
     "data": {
      "text/plain": [
       "6"
      ]
     },
     "execution_count": 18,
     "metadata": {},
     "output_type": "execute_result"
    }
   ],
   "source": [
    "cal.sub(10,4)"
   ]
  },
  {
   "cell_type": "code",
   "execution_count": 31,
   "id": "090135b8",
   "metadata": {},
   "outputs": [],
   "source": [
    "class calci:\n",
    "    def add(n1,n2):\n",
    "        return n1 + n2\n",
    "    def sub(n1, n2):\n",
    "        return n1 - n2\n",
    "    def mul(n1,n2):\n",
    "        return n1 * n2\n",
    "    def div(n1,n2):\n",
    "        return n1 / n2\n",
    "    def fdiv(n1,n2):\n",
    "        return n1 // n2\n",
    "    def exp(n1,n2):\n",
    "        return n1 **n2"
   ]
  },
  {
   "cell_type": "code",
   "execution_count": 32,
   "id": "e21ed542",
   "metadata": {},
   "outputs": [],
   "source": [
    "c = calci"
   ]
  },
  {
   "cell_type": "code",
   "execution_count": 33,
   "id": "59160feb",
   "metadata": {},
   "outputs": [
    {
     "data": {
      "text/plain": [
       "(16, 0, 0.5, 35, 4, 16)"
      ]
     },
     "execution_count": 33,
     "metadata": {},
     "output_type": "execute_result"
    }
   ],
   "source": [
    "c.exp(2,4),c.fdiv(3,6),c.div(4,8), c.mul(5,7),c.sub(6,2),c.add(7,9)"
   ]
  },
  {
   "cell_type": "code",
   "execution_count": 36,
   "id": "a386d7b8",
   "metadata": {},
   "outputs": [],
   "source": [
    "cal1 =calci()"
   ]
  },
  {
   "cell_type": "code",
   "execution_count": 37,
   "id": "98d545bf",
   "metadata": {},
   "outputs": [
    {
     "ename": "TypeError",
     "evalue": "add() takes 2 positional arguments but 3 were given",
     "output_type": "error",
     "traceback": [
      "\u001b[1;31m---------------------------------------------------------------------------\u001b[0m",
      "\u001b[1;31mTypeError\u001b[0m                                 Traceback (most recent call last)",
      "\u001b[1;32m<ipython-input-37-d005d234e0fb>\u001b[0m in \u001b[0;36m<module>\u001b[1;34m\u001b[0m\n\u001b[1;32m----> 1\u001b[1;33m \u001b[0mcal1\u001b[0m\u001b[1;33m.\u001b[0m\u001b[0madd\u001b[0m\u001b[1;33m(\u001b[0m\u001b[1;36m21\u001b[0m\u001b[1;33m,\u001b[0m\u001b[1;36m5\u001b[0m\u001b[1;33m)\u001b[0m\u001b[1;33m\u001b[0m\u001b[1;33m\u001b[0m\u001b[0m\n\u001b[0m",
      "\u001b[1;31mTypeError\u001b[0m: add() takes 2 positional arguments but 3 were given"
     ]
    }
   ],
   "source": [
    "cal1.add(21,5)"
   ]
  },
  {
   "cell_type": "markdown",
   "id": "37eb3826",
   "metadata": {},
   "source": [
    "### constructor\n",
    "     - it is special method in python i.e, __init__()\n",
    "     - it will execute while creating object\n",
    "     - we have 2 diff types constructor\n",
    "            - default\n",
    "            - parameterised"
   ]
  },
  {
   "cell_type": "code",
   "execution_count": 38,
   "id": "6042fb9e",
   "metadata": {},
   "outputs": [],
   "source": [
    "class Hello:\n",
    "    def __init__(self):\n",
    "        print(\"hi i am default constructor\")"
   ]
  },
  {
   "cell_type": "code",
   "execution_count": 39,
   "id": "b6532146",
   "metadata": {},
   "outputs": [
    {
     "name": "stdout",
     "output_type": "stream",
     "text": [
      "hi i am default constructor\n"
     ]
    }
   ],
   "source": [
    "obj = Hello()"
   ]
  },
  {
   "cell_type": "code",
   "execution_count": 13,
   "id": "4897080f",
   "metadata": {},
   "outputs": [],
   "source": [
    "class Hello1:\n",
    "    def __init__(fles,val1,val2):\n",
    "        fles.val1 =val1\n",
    "        fles.val2 = val2\n",
    "    def show(fles):\n",
    "        print(fles.val1,fles.val2,fles.val3,fles.val4)\n",
    "        \n",
    "    def add(fles):\n",
    "        return fles.val1 + fles.val2\n",
    "    def profile(fles,val3,val4):\n",
    "        fles.val3 = val3\n",
    "        fles.val4 = val4"
   ]
  },
  {
   "cell_type": "code",
   "execution_count": 14,
   "id": "19acf5d4",
   "metadata": {},
   "outputs": [],
   "source": [
    "obj = Hello1(4,5)"
   ]
  },
  {
   "cell_type": "code",
   "execution_count": 15,
   "id": "681eb76b",
   "metadata": {},
   "outputs": [
    {
     "ename": "AttributeError",
     "evalue": "'Hello1' object has no attribute 'val3'",
     "output_type": "error",
     "traceback": [
      "\u001b[1;31m---------------------------------------------------------------------------\u001b[0m",
      "\u001b[1;31mAttributeError\u001b[0m                            Traceback (most recent call last)",
      "\u001b[1;32m<ipython-input-15-3a5b94642195>\u001b[0m in \u001b[0;36m<module>\u001b[1;34m\u001b[0m\n\u001b[1;32m----> 1\u001b[1;33m \u001b[0mobj\u001b[0m\u001b[1;33m.\u001b[0m\u001b[0mshow\u001b[0m\u001b[1;33m(\u001b[0m\u001b[1;33m)\u001b[0m\u001b[1;33m\u001b[0m\u001b[1;33m\u001b[0m\u001b[0m\n\u001b[0m",
      "\u001b[1;32m<ipython-input-13-ec7fa985bde8>\u001b[0m in \u001b[0;36mshow\u001b[1;34m(fles)\u001b[0m\n\u001b[0;32m      4\u001b[0m         \u001b[0mfles\u001b[0m\u001b[1;33m.\u001b[0m\u001b[0mval2\u001b[0m \u001b[1;33m=\u001b[0m \u001b[0mval2\u001b[0m\u001b[1;33m\u001b[0m\u001b[1;33m\u001b[0m\u001b[0m\n\u001b[0;32m      5\u001b[0m     \u001b[1;32mdef\u001b[0m \u001b[0mshow\u001b[0m\u001b[1;33m(\u001b[0m\u001b[0mfles\u001b[0m\u001b[1;33m)\u001b[0m\u001b[1;33m:\u001b[0m\u001b[1;33m\u001b[0m\u001b[1;33m\u001b[0m\u001b[0m\n\u001b[1;32m----> 6\u001b[1;33m         \u001b[0mprint\u001b[0m\u001b[1;33m(\u001b[0m\u001b[0mfles\u001b[0m\u001b[1;33m.\u001b[0m\u001b[0mval1\u001b[0m\u001b[1;33m,\u001b[0m\u001b[0mfles\u001b[0m\u001b[1;33m.\u001b[0m\u001b[0mval2\u001b[0m\u001b[1;33m,\u001b[0m\u001b[0mfles\u001b[0m\u001b[1;33m.\u001b[0m\u001b[0mval3\u001b[0m\u001b[1;33m,\u001b[0m\u001b[0mfles\u001b[0m\u001b[1;33m.\u001b[0m\u001b[0mval4\u001b[0m\u001b[1;33m)\u001b[0m\u001b[1;33m\u001b[0m\u001b[1;33m\u001b[0m\u001b[0m\n\u001b[0m\u001b[0;32m      7\u001b[0m \u001b[1;33m\u001b[0m\u001b[0m\n\u001b[0;32m      8\u001b[0m     \u001b[1;32mdef\u001b[0m \u001b[0madd\u001b[0m\u001b[1;33m(\u001b[0m\u001b[0mfles\u001b[0m\u001b[1;33m)\u001b[0m\u001b[1;33m:\u001b[0m\u001b[1;33m\u001b[0m\u001b[1;33m\u001b[0m\u001b[0m\n",
      "\u001b[1;31mAttributeError\u001b[0m: 'Hello1' object has no attribute 'val3'"
     ]
    }
   ],
   "source": [
    " obj.show()"
   ]
  },
  {
   "cell_type": "code",
   "execution_count": 17,
   "id": "63e0d064",
   "metadata": {},
   "outputs": [],
   "source": [
    "obj.profile(34,78)"
   ]
  },
  {
   "cell_type": "code",
   "execution_count": 18,
   "id": "22859870",
   "metadata": {},
   "outputs": [
    {
     "name": "stdout",
     "output_type": "stream",
     "text": [
      "4 5 34 78\n"
     ]
    }
   ],
   "source": [
    "obj.show()"
   ]
  },
  {
   "cell_type": "code",
   "execution_count": 21,
   "id": "5bba9338",
   "metadata": {},
   "outputs": [],
   "source": [
    "from package import mylogic\n"
   ]
  },
  {
   "cell_type": "code",
   "execution_count": 22,
   "id": "f015dd7d",
   "metadata": {},
   "outputs": [
    {
     "data": {
      "text/plain": [
       "['Calci',\n",
       " 'Mymath',\n",
       " '__builtins__',\n",
       " '__cached__',\n",
       " '__doc__',\n",
       " '__file__',\n",
       " '__loader__',\n",
       " '__name__',\n",
       " '__package__',\n",
       " '__spec__']"
      ]
     },
     "execution_count": 22,
     "metadata": {},
     "output_type": "execute_result"
    }
   ],
   "source": [
    "dir(mylogic)"
   ]
  },
  {
   "cell_type": "code",
   "execution_count": 24,
   "id": "8e4f087d",
   "metadata": {},
   "outputs": [
    {
     "data": {
      "text/plain": [
       "True"
      ]
     },
     "execution_count": 24,
     "metadata": {},
     "output_type": "execute_result"
    }
   ],
   "source": [
    "mylogic.Mymath.isEven(2)"
   ]
  },
  {
   "cell_type": "code",
   "execution_count": 1,
   "id": "4e4aef30",
   "metadata": {},
   "outputs": [],
   "source": [
    "from package.mylogic import Mymath"
   ]
  },
  {
   "cell_type": "code",
   "execution_count": 2,
   "id": "3b85f2bc",
   "metadata": {},
   "outputs": [],
   "source": [
    "obj = Mymath"
   ]
  },
  {
   "cell_type": "code",
   "execution_count": 3,
   "id": "314ebfeb",
   "metadata": {},
   "outputs": [
    {
     "ename": "ZeroDivisionError",
     "evalue": "integer division or modulo by zero",
     "output_type": "error",
     "traceback": [
      "\u001b[1;31m---------------------------------------------------------------------------\u001b[0m",
      "\u001b[1;31mZeroDivisionError\u001b[0m                         Traceback (most recent call last)",
      "\u001b[1;32m<ipython-input-3-e956340c32b1>\u001b[0m in \u001b[0;36m<module>\u001b[1;34m\u001b[0m\n\u001b[1;32m----> 1\u001b[1;33m \u001b[0mobj\u001b[0m\u001b[1;33m.\u001b[0m\u001b[0misPrime\u001b[0m\u001b[1;33m(\u001b[0m\u001b[1;36m47\u001b[0m\u001b[1;33m)\u001b[0m\u001b[1;33m\u001b[0m\u001b[1;33m\u001b[0m\u001b[0m\n\u001b[0m",
      "\u001b[1;32m~\\Desktop\\apssdc internship\\package\\mylogic.py\u001b[0m in \u001b[0;36misPrime\u001b[1;34m(num)\u001b[0m\n\u001b[0;32m     12\u001b[0m     \u001b[1;32mdef\u001b[0m \u001b[0misPrime\u001b[0m\u001b[1;33m(\u001b[0m\u001b[0mnum\u001b[0m\u001b[1;33m)\u001b[0m\u001b[1;33m:\u001b[0m\u001b[1;33m\u001b[0m\u001b[1;33m\u001b[0m\u001b[0m\n\u001b[0;32m     13\u001b[0m         \u001b[1;32mfor\u001b[0m \u001b[0mi\u001b[0m \u001b[1;32min\u001b[0m \u001b[0mrange\u001b[0m\u001b[1;33m(\u001b[0m\u001b[1;36m2\u001b[0m\u001b[1;33m)\u001b[0m\u001b[1;33m:\u001b[0m\u001b[1;33m\u001b[0m\u001b[1;33m\u001b[0m\u001b[0m\n\u001b[1;32m---> 14\u001b[1;33m             \u001b[1;32mif\u001b[0m \u001b[0mnum\u001b[0m\u001b[1;33m%\u001b[0m\u001b[0mi\u001b[0m\u001b[1;33m==\u001b[0m\u001b[1;36m0\u001b[0m\u001b[1;33m:\u001b[0m\u001b[1;33m\u001b[0m\u001b[1;33m\u001b[0m\u001b[0m\n\u001b[0m\u001b[0;32m     15\u001b[0m                 \u001b[1;32mreturn\u001b[0m \u001b[1;32mFalse\u001b[0m\u001b[1;33m\u001b[0m\u001b[1;33m\u001b[0m\u001b[0m\n\u001b[0;32m     16\u001b[0m         \u001b[1;32mreturn\u001b[0m \u001b[1;32mTrue\u001b[0m\u001b[1;33m\u001b[0m\u001b[1;33m\u001b[0m\u001b[0m\n",
      "\u001b[1;31mZeroDivisionError\u001b[0m: integer division or modulo by zero"
     ]
    }
   ],
   "source": [
    "obj.isPrime(47)"
   ]
  },
  {
   "cell_type": "markdown",
   "id": "c6a92357",
   "metadata": {},
   "source": [
    "# Inheritance:\n",
    "    - inheriting properties from parent to child\n",
    "    - aquring properties from one class to another class\n",
    "    - types of inheritance\n",
    "           -single\n",
    "           - mutiple\n",
    "           - mutilevel\n",
    "           - hierachal\n",
    "           - hybrid"
   ]
  },
  {
   "cell_type": "code",
   "execution_count": 4,
   "id": "1ea031e4",
   "metadata": {},
   "outputs": [],
   "source": [
    "class parent:\n",
    "    name = \"parent\"\n",
    "    value = 500\n",
    "    def display():\n",
    "        print(\" i am from parent class\")"
   ]
  },
  {
   "cell_type": "code",
   "execution_count": 5,
   "id": "93807d1e",
   "metadata": {},
   "outputs": [],
   "source": [
    "class child(parent):\n",
    "    cname = \"child\"\n",
    "    age =21\n",
    "    def show():\n",
    "        print(\" i am from child class\")"
   ]
  },
  {
   "cell_type": "code",
   "execution_count": 6,
   "id": "8cfb91a2",
   "metadata": {},
   "outputs": [],
   "source": [
    "obj = child"
   ]
  },
  {
   "cell_type": "code",
   "execution_count": 7,
   "id": "07c5a599",
   "metadata": {},
   "outputs": [
    {
     "data": {
      "text/plain": [
       "'parent'"
      ]
     },
     "execution_count": 7,
     "metadata": {},
     "output_type": "execute_result"
    }
   ],
   "source": [
    "obj.name"
   ]
  },
  {
   "cell_type": "code",
   "execution_count": 8,
   "id": "8c79e4b6",
   "metadata": {},
   "outputs": [
    {
     "name": "stdout",
     "output_type": "stream",
     "text": [
      " i am from parent class\n"
     ]
    }
   ],
   "source": [
    "obj.display()"
   ]
  },
  {
   "cell_type": "code",
   "execution_count": 9,
   "id": "936168bc",
   "metadata": {},
   "outputs": [
    {
     "name": "stdout",
     "output_type": "stream",
     "text": [
      " i am from child class\n"
     ]
    }
   ],
   "source": [
    "obj.show()"
   ]
  },
  {
   "cell_type": "code",
   "execution_count": null,
   "id": "bd6995f2",
   "metadata": {},
   "outputs": [],
   "source": []
  }
 ],
 "metadata": {
  "kernelspec": {
   "display_name": "Python 3",
   "language": "python",
   "name": "python3"
  },
  "language_info": {
   "codemirror_mode": {
    "name": "ipython",
    "version": 3
   },
   "file_extension": ".py",
   "mimetype": "text/x-python",
   "name": "python",
   "nbconvert_exporter": "python",
   "pygments_lexer": "ipython3",
   "version": "3.7.4"
  }
 },
 "nbformat": 4,
 "nbformat_minor": 5
}
