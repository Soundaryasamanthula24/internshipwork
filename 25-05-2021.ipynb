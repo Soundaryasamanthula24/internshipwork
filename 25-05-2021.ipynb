{
 "cells": [
  {
   "cell_type": "markdown",
   "id": "8241f491",
   "metadata": {},
   "source": [
    "# Mardown format"
   ]
  },
  {
   "cell_type": "markdown",
   "id": "af0bb88d",
   "metadata": {},
   "source": [
    "# Heading 1\n",
    "## Heading 2\n",
    "### Heading 3\n",
    "#### Heading 4\n",
    "##### Heading 5\n",
    "###### Heading 6\n",
    "# crlt enter to execute in the same cell\n"
   ]
  },
  {
   "cell_type": "markdown",
   "id": "6f6baa14",
   "metadata": {},
   "source": [
    "# python"
   ]
  },
  {
   "cell_type": "markdown",
   "id": "e11c6963",
   "metadata": {},
   "source": [
    "## python installations, Execution ways, jupyter installation\n"
   ]
  },
  {
   "cell_type": "markdown",
   "id": "b58d6bf4",
   "metadata": {},
   "source": [
    "### Variables\n",
    "    - to store a value\n",
    "    - to acess the values in different functions, methods\n",
    "    - to change values"
   ]
  },
  {
   "cell_type": "code",
   "execution_count": 5,
   "id": "4a48ba06",
   "metadata": {},
   "outputs": [
    {
     "data": {
      "text/plain": [
       "(10, 30)"
      ]
     },
     "execution_count": 5,
     "metadata": {},
     "output_type": "execute_result"
    }
   ],
   "source": [
    "a = 10\n",
    "b = 30\n",
    "a,b\n"
   ]
  },
  {
   "cell_type": "code",
   "execution_count": 6,
   "id": "0b4477bc",
   "metadata": {},
   "outputs": [
    {
     "name": "stdout",
     "output_type": "stream",
     "text": [
      "10 30\n",
      "30 10\n"
     ]
    }
   ],
   "source": [
    "print(a,b)\n",
    "print(b,a)"
   ]
  },
  {
   "cell_type": "markdown",
   "id": "59088b17",
   "metadata": {},
   "source": [
    "## Data types\n",
    "    - int only number\n",
    "    -float decimal point\n",
    "    - string either with ' or \""
   ]
  },
  {
   "cell_type": "markdown",
   "id": "7755c05c",
   "metadata": {},
   "source": [
    "### Type \n",
    "    - to kow the type of the data\n",
    "    -type(variable, datastructure)"
   ]
  },
  {
   "cell_type": "code",
   "execution_count": 9,
   "id": "f2bc3516",
   "metadata": {},
   "outputs": [
    {
     "name": "stdout",
     "output_type": "stream",
     "text": [
      "<class 'int'> <class 'int'>\n"
     ]
    }
   ],
   "source": [
    "type(a)\n",
    "print(type(a),type(b))"
   ]
  },
  {
   "cell_type": "code",
   "execution_count": 2,
   "id": "40bff98e",
   "metadata": {},
   "outputs": [
    {
     "data": {
      "text/plain": [
       "10"
      ]
     },
     "execution_count": 2,
     "metadata": {},
     "output_type": "execute_result"
    }
   ],
   "source": [
    "a = 10\n",
    "a"
   ]
  },
  {
   "cell_type": "code",
   "execution_count": 9,
   "id": "03602152",
   "metadata": {},
   "outputs": [
    {
     "data": {
      "text/plain": [
       "(int, str)"
      ]
     },
     "execution_count": 9,
     "metadata": {},
     "output_type": "execute_result"
    }
   ],
   "source": [
    "a = 100\n",
    "b= \"ss\"\n",
    "type(a),type(b)"
   ]
  },
  {
   "cell_type": "markdown",
   "id": "84595457",
   "metadata": {},
   "source": [
    "# input()\n",
    "    -By default it will be considered as a string value\n",
    "    - print(), read()"
   ]
  },
  {
   "cell_type": "code",
   "execution_count": 10,
   "id": "bc9d72cb",
   "metadata": {},
   "outputs": [
    {
     "name": "stdout",
     "output_type": "stream",
     "text": [
      "21\n",
      "21\n"
     ]
    }
   ],
   "source": [
    "a= input()\n",
    "print(a)"
   ]
  },
  {
   "cell_type": "markdown",
   "id": "c0655d8e",
   "metadata": {},
   "source": [
    "## typecasting\n",
    "        - convert one data type to another data type\n",
    "        -int(),str(),float()"
   ]
  },
  {
   "cell_type": "code",
   "execution_count": 12,
   "id": "9b9098a7",
   "metadata": {},
   "outputs": [
    {
     "name": "stdout",
     "output_type": "stream",
     "text": [
      "Enter the integer value:3\n",
      "3 <class 'int'>\n"
     ]
    },
    {
     "data": {
      "text/plain": [
       "3.0"
      ]
     },
     "execution_count": 12,
     "metadata": {},
     "output_type": "execute_result"
    }
   ],
   "source": [
    "p = int(input(\"Enter the integer value:\"))\n",
    "print(p,type(p))\n",
    "float(p)"
   ]
  },
  {
   "cell_type": "code",
   "execution_count": 11,
   "id": "76270258",
   "metadata": {},
   "outputs": [
    {
     "name": "stdout",
     "output_type": "stream",
     "text": [
      "Enter only integer values: 22\n",
      "22.0 <class 'float'>\n"
     ]
    }
   ],
   "source": [
    "n=float(input(\"Enter only integer values: \"))\n",
    "print(n, type(n))"
   ]
  },
  {
   "cell_type": "code",
   "execution_count": 13,
   "id": "7010d7d6",
   "metadata": {},
   "outputs": [
    {
     "name": "stdout",
     "output_type": "stream",
     "text": [
      "Enter only integer values: 55\n",
      "55 <class 'int'>\n"
     ]
    }
   ],
   "source": [
    "n=int(input(\"Enter only integer values: \"))\n",
    "print(n, type(n))"
   ]
  },
  {
   "cell_type": "code",
   "execution_count": 14,
   "id": "70ee6a10",
   "metadata": {},
   "outputs": [
    {
     "name": "stdout",
     "output_type": "stream",
     "text": [
      "Enter integer values: 5\n",
      "Enter float values: 4.5\n",
      "Conversion of int value is:  5.0\n",
      "Conversion of float value is:  4\n"
     ]
    }
   ],
   "source": [
    "x=int(input(\"Enter integer values: \"))\n",
    "y=float(input(\"Enter float values: \"))\n",
    "a=float(x)\n",
    "b=int(y)\n",
    "print(\"Conversion of int value is: \",a)\n",
    "print(\"Conversion of float value is: \",b)"
   ]
  },
  {
   "cell_type": "code",
   "execution_count": 15,
   "id": "306234b7",
   "metadata": {},
   "outputs": [
    {
     "name": "stdout",
     "output_type": "stream",
     "text": [
      "Enter integer values: 8\n",
      "Enter float values: 3.6\n",
      "Conversion of int value is:  8.0\n",
      "Conversion of float value is:  3\n",
      "string in both cases is ''8''3.6'\n"
     ]
    }
   ],
   "source": [
    "x=int(input(\"Enter integer values: \"))\n",
    "y=float(input(\"Enter float values: \"))\n",
    "print(\"Conversion of int value is: \",float(x))\n",
    "print(\"Conversion of float value is: \",int(y))\n",
    "print(\"string in both cases is \"+\"''\"+str(x)+\"''\"+str(y)+\"'\")"
   ]
  },
  {
   "cell_type": "markdown",
   "id": "c7dc7310",
   "metadata": {},
   "source": [
    "# styling text\n",
    "    - bold -> **  ** or __  __\n",
    "    - italic -> * * or _  _\n",
    "    - strikethrough -> ~~  ~~\n",
    "    - bold and nested italic **  ** and _  _\n",
    "    - all bold and italic ***  ***"
   ]
  },
  {
   "cell_type": "markdown",
   "id": "33016685",
   "metadata": {},
   "source": [
    "**Python programming**\n",
    " \n",
    " *Python programming* \n",
    " \n",
    " ~~python python~~ \n",
    " \n",
    " ***python*** \n",
    " \n",
    " _Python _Programming_in jupyter Python Programming_"
   ]
  },
  {
   "cell_type": "markdown",
   "id": "9a2aa76e",
   "metadata": {},
   "source": [
    "# Quoting text\n",
    " `jupyter notebook`"
   ]
  },
  {
   "cell_type": "markdown",
   "id": "ad2cd88a",
   "metadata": {},
   "source": [
    "# Lists\n",
    "   - GAYATHRI\n",
    "   - TEJA\n",
    "   - PUJI\n",
    "   - NIHARIKA\n",
    "   - SOUNDARYA"
   ]
  },
  {
   "cell_type": "markdown",
   "id": "f93caae4",
   "metadata": {},
   "source": [
    "# lists with numbering\n",
    "1. GAYATHRI\n",
    "2. TEJA\n",
    "3. PUJI\n",
    "4. NIHARIKA\n",
    "5. SOUNDARYA"
   ]
  },
  {
   "cell_type": "markdown",
   "id": "49cbf02a",
   "metadata": {},
   "source": [
    "# lists with random numbering\n",
    "3. GAYATHRI\n",
    "50. TEJA\n",
    "500. PUJI\n",
    "25. NIHARIKA\n",
    "26. SOUNDARYA"
   ]
  },
  {
   "cell_type": "markdown",
   "id": "8a6fd71d",
   "metadata": {},
   "source": [
    "# Nested lists\n",
    "1. Pace Institute of technology of sciences -Branches\n",
    "     - CSE\n",
    "     - ECE\n",
    "     - EEE\n",
    "     - CIVIL\n",
    "     - AME\n",
    "     - IT\n",
    " \n",
    " -Courses in CSE\n",
    "     - C\n",
    "     - C++\n",
    "     - JAVA\n",
    "     - PYTHON"
   ]
  },
  {
   "cell_type": "markdown",
   "id": "5f080fef",
   "metadata": {},
   "source": [
    "# Task lists\n",
    "   \n",
    "   -[x] for marking a task as complete\n",
    "   \n",
    "   -[x] complete assignments\n",
    "   - [] do the task\n",
    "   - [] submitting project report"
   ]
  },
  {
   "cell_type": "code",
   "execution_count": null,
   "id": "b9dcf972",
   "metadata": {},
   "outputs": [],
   "source": []
  }
 ],
 "metadata": {
  "kernelspec": {
   "display_name": "Python 3",
   "language": "python",
   "name": "python3"
  },
  "language_info": {
   "codemirror_mode": {
    "name": "ipython",
    "version": 3
   },
   "file_extension": ".py",
   "mimetype": "text/x-python",
   "name": "python",
   "nbconvert_exporter": "python",
   "pygments_lexer": "ipython3",
   "version": "3.7.4"
  }
 },
 "nbformat": 4,
 "nbformat_minor": 5
}
