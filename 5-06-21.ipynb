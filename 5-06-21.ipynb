{
 "cells": [
  {
   "cell_type": "markdown",
   "id": "855ef9ae",
   "metadata": {},
   "source": [
    "# Files, Packages and Modules\n",
    "\n",
    "# Files:\n",
    "- To store values or data permanently\n",
    "- File format .py,.txt etc.\n",
    "- Modes:\n",
    "    - Read --> if file doesn't exist, it displays an error. If file exists, it reads the data(-r)\n",
    "    - Write --> if file doesn't exist, it creates a file with userdefined file name. If file exists it writes to a file. Previous data will be erased and new data is created.(-w)\n",
    "    - Append --> if file doesn't exists, it creates a file with userdefined filename. If the file exists, it writes to a file and it will add new data for existing ones(-a)\n",
    "    - Execute --> If the file is not exist, new file is created"
   ]
  },
  {
   "cell_type": "code",
   "execution_count": 4,
   "id": "38c3bf2d",
   "metadata": {},
   "outputs": [],
   "source": [
    "with open('rawdata/sample.text','w') as ft:\n",
    "    ft.write(\"Hello good Evening to all\")\n",
    "    "
   ]
  },
  {
   "cell_type": "code",
   "execution_count": 8,
   "id": "8383d008",
   "metadata": {},
   "outputs": [
    {
     "name": "stdout",
     "output_type": "stream",
     "text": [
      "Hello good Evening to all\n",
      "Welcome to APSSDC programs\n"
     ]
    }
   ],
   "source": [
    "with open('rawdata/sample.text','r') as fr:\n",
    "    print(fr.read())"
   ]
  },
  {
   "cell_type": "code",
   "execution_count": 6,
   "id": "d95208c6",
   "metadata": {},
   "outputs": [],
   "source": [
    "with open('rawdata/sample.text','a') as fa:\n",
    "    fa.write(\"\\nWelcome to APSSDC programs\")"
   ]
  },
  {
   "cell_type": "code",
   "execution_count": 11,
   "id": "b955799a",
   "metadata": {},
   "outputs": [
    {
     "name": "stdout",
     "output_type": "stream",
     "text": [
      "Enter a range: 3\n",
      "Enter a name: sou\n",
      "Enter a name: teja\n",
      "Enter a name: puji\n"
     ]
    }
   ],
   "source": [
    "with open('rawdata/Names.csv','w') as y:\n",
    "    n = int(input(\"Enter a range: \"))\n",
    "    for j in range(1,n+1):\n",
    "        m = input(\"Enter a name: \")\n",
    "        y.write(m+\"\\n\")"
   ]
  },
  {
   "cell_type": "code",
   "execution_count": 12,
   "id": "c433c90c",
   "metadata": {},
   "outputs": [
    {
     "name": "stdout",
     "output_type": "stream",
     "text": [
      "['_CHUNK_SIZE', '__class__', '__del__', '__delattr__', '__dict__', '__dir__', '__doc__', '__enter__', '__eq__', '__exit__', '__format__', '__ge__', '__getattribute__', '__getstate__', '__gt__', '__hash__', '__init__', '__init_subclass__', '__iter__', '__le__', '__lt__', '__ne__', '__new__', '__next__', '__reduce__', '__reduce_ex__', '__repr__', '__setattr__', '__sizeof__', '__str__', '__subclasshook__', '_checkClosed', '_checkReadable', '_checkSeekable', '_checkWritable', '_finalizing', 'buffer', 'close', 'closed', 'detach', 'encoding', 'errors', 'fileno', 'flush', 'isatty', 'line_buffering', 'mode', 'name', 'newlines', 'read', 'readable', 'readline', 'readlines', 'reconfigure', 'seek', 'seekable', 'tell', 'truncate', 'writable', 'write', 'write_through', 'writelines']\n"
     ]
    }
   ],
   "source": [
    "print(dir(y))"
   ]
  },
  {
   "cell_type": "code",
   "execution_count": 15,
   "id": "c6a97caf",
   "metadata": {},
   "outputs": [
    {
     "name": "stdout",
     "output_type": "stream",
     "text": [
      "sou\n",
      "\n"
     ]
    }
   ],
   "source": [
    "with open('rawdata/Names.csv','r') as k:\n",
    "    print(k.readline())"
   ]
  },
  {
   "cell_type": "code",
   "execution_count": 16,
   "id": "d012156d",
   "metadata": {},
   "outputs": [
    {
     "name": "stdout",
     "output_type": "stream",
     "text": [
      "['sou\\n', 'teja\\n', 'puji\\n']\n"
     ]
    }
   ],
   "source": [
    "with open('rawdata/Names.csv','r') as k:\n",
    "    print(k.readlines())"
   ]
  },
  {
   "cell_type": "code",
   "execution_count": 17,
   "id": "b68c194c",
   "metadata": {},
   "outputs": [
    {
     "name": "stdout",
     "output_type": "stream",
     "text": [
      "['sou', 'teja', 'puji']\n"
     ]
    }
   ],
   "source": [
    "with open('rawdata/Names.csv','r') as k:\n",
    "    s = k.readlines()\n",
    "    q = []\n",
    "    for v in s:\n",
    "        q.append(v.split('\\n')[0])\n",
    "    print(q)"
   ]
  },
  {
   "cell_type": "code",
   "execution_count": 24,
   "id": "9551301e",
   "metadata": {},
   "outputs": [
    {
     "name": "stdout",
     "output_type": "stream",
     "text": [
      "Enter a range 20\n"
     ]
    }
   ],
   "source": [
    "with open('rawdata/input.text','w') as fw:\n",
    "    fw.write(input(\"Enter a range \"))"
   ]
  },
  {
   "cell_type": "code",
   "execution_count": 8,
   "id": "d04fdf13",
   "metadata": {},
   "outputs": [
    {
     "ename": "SyntaxError",
     "evalue": "invalid syntax (<ipython-input-8-e222405046d9>, line 6)",
     "output_type": "error",
     "traceback": [
      "\u001b[1;36m  File \u001b[1;32m\"<ipython-input-8-e222405046d9>\"\u001b[1;36m, line \u001b[1;32m6\u001b[0m\n\u001b[1;33m    for n in range(1,int(f[0]+1):\u001b[0m\n\u001b[1;37m                                ^\u001b[0m\n\u001b[1;31mSyntaxError\u001b[0m\u001b[1;31m:\u001b[0m invalid syntax\n"
     ]
    }
   ],
   "source": [
    "with open('rawdata/input.text','r') as g:\n",
    "    f = g.readlines()\n",
    "    with open('rawdata\\output.text','w') as wy:\n",
    "        wy.write(\"Entered number is: {}\\n\".format(f[0]))\n",
    "        x = []\n",
    "        for n in range(1,int(f[0]+1):\n",
    "            if n%2==0:\n",
    "                h = str(n)+\",\"\n",
    "                x.append(h)\n",
    "        t = \" \".join(x)\n",
    "        wy.write(\"Even number is range {} is: {}\".format(f[0],x))        "
   ]
  },
  {
   "cell_type": "code",
   "execution_count": null,
   "id": "5dc0d53a",
   "metadata": {},
   "outputs": [],
   "source": []
  }
 ],
 "metadata": {
  "kernelspec": {
   "display_name": "Python 3",
   "language": "python",
   "name": "python3"
  },
  "language_info": {
   "codemirror_mode": {
    "name": "ipython",
    "version": 3
   },
   "file_extension": ".py",
   "mimetype": "text/x-python",
   "name": "python",
   "nbconvert_exporter": "python",
   "pygments_lexer": "ipython3",
   "version": "3.7.4"
  }
 },
 "nbformat": 4,
 "nbformat_minor": 5
}
