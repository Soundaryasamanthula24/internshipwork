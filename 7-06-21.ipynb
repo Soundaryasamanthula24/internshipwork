{
 "cells": [
  {
   "cell_type": "markdown",
   "id": "f0e7f542",
   "metadata": {},
   "source": [
    "# packages and modules:"
   ]
  },
  {
   "cell_type": "markdown",
   "id": "66565172",
   "metadata": {},
   "source": [
    "## Package:\n",
    "   - Folder - No of files or number of folder\n",
    "   - Package => Folder\n",
    "             => no of folders or files\n",
    "             => collection of moudles\n",
    "    - Modules => Files [.py]\n",
    "              => collesction of class,methods,functions ,variables"
   ]
  },
  {
   "cell_type": "code",
   "execution_count": null,
   "id": "a7d8a5e5",
   "metadata": {},
   "outputs": [],
   "source": [
    "Example:\n",
    "    college => package\n",
    "        CSE => sub packages\n",
    "             -> first.py => modules\n",
    "             -> second.py\n",
    "             ->third.py\n",
    "        ECE\n",
    "        EEE\n",
    "        MEch\n",
    "        CIVILE"
   ]
  },
  {
   "cell_type": "code",
   "execution_count": 1,
   "id": "b7ba1f4c",
   "metadata": {},
   "outputs": [],
   "source": [
    "import math"
   ]
  },
  {
   "cell_type": "code",
   "execution_count": 2,
   "id": "cf1ac50d",
   "metadata": {},
   "outputs": [
    {
     "name": "stdout",
     "output_type": "stream",
     "text": [
      "['__doc__', '__loader__', '__name__', '__package__', '__spec__', 'acos', 'acosh', 'asin', 'asinh', 'atan', 'atan2', 'atanh', 'ceil', 'copysign', 'cos', 'cosh', 'degrees', 'e', 'erf', 'erfc', 'exp', 'expm1', 'fabs', 'factorial', 'floor', 'fmod', 'frexp', 'fsum', 'gamma', 'gcd', 'hypot', 'inf', 'isclose', 'isfinite', 'isinf', 'isnan', 'ldexp', 'lgamma', 'log', 'log10', 'log1p', 'log2', 'modf', 'nan', 'pi', 'pow', 'radians', 'remainder', 'sin', 'sinh', 'sqrt', 'tan', 'tanh', 'tau', 'trunc']\n"
     ]
    }
   ],
   "source": [
    "print(dir(math))"
   ]
  },
  {
   "cell_type": "code",
   "execution_count": 3,
   "id": "0177f735",
   "metadata": {},
   "outputs": [
    {
     "name": "stdout",
     "output_type": "stream",
     "text": [
      "93326215443944152681699238856266700490715968264381621468592963895217599993229915608941463976156518286253697920827223758251185210916864000000000000000000000000\n"
     ]
    }
   ],
   "source": [
    "print(math.factorial(100))"
   ]
  },
  {
   "cell_type": "code",
   "execution_count": 1,
   "id": "da54e832",
   "metadata": {},
   "outputs": [],
   "source": [
    "import sample\n"
   ]
  },
  {
   "cell_type": "code",
   "execution_count": 2,
   "id": "12696b9b",
   "metadata": {},
   "outputs": [
    {
     "name": "stdout",
     "output_type": "stream",
     "text": [
      "['__builtins__', '__cached__', '__doc__', '__file__', '__loader__', '__name__', '__package__', '__spec__', 'a']\n"
     ]
    }
   ],
   "source": [
    "print(dir(sample))"
   ]
  },
  {
   "cell_type": "code",
   "execution_count": 3,
   "id": "e43ae2ba",
   "metadata": {},
   "outputs": [
    {
     "name": "stdout",
     "output_type": "stream",
     "text": [
      "200\n"
     ]
    }
   ],
   "source": [
    "print(sample.a)"
   ]
  },
  {
   "cell_type": "code",
   "execution_count": 1,
   "id": "c05acd34",
   "metadata": {},
   "outputs": [],
   "source": [
    "import first\n"
   ]
  },
  {
   "cell_type": "code",
   "execution_count": 2,
   "id": "d119c4b5",
   "metadata": {},
   "outputs": [
    {
     "name": "stdout",
     "output_type": "stream",
     "text": [
      "soundarya\n",
      "welcome to django internship\n"
     ]
    }
   ],
   "source": [
    "print(first.name)\n",
    "print(first.n)"
   ]
  },
  {
   "cell_type": "code",
   "execution_count": 3,
   "id": "0432b561",
   "metadata": {},
   "outputs": [],
   "source": [
    "from APSSDC import demo"
   ]
  },
  {
   "cell_type": "code",
   "execution_count": 4,
   "id": "069781f0",
   "metadata": {},
   "outputs": [
    {
     "name": "stdout",
     "output_type": "stream",
     "text": [
      "['__builtins__', '__cached__', '__doc__', '__file__', '__loader__', '__name__', '__package__', '__spec__', 'a', 'p', 'z']\n"
     ]
    }
   ],
   "source": [
    "print(dir(demo))"
   ]
  },
  {
   "cell_type": "code",
   "execution_count": 6,
   "id": "c047c486",
   "metadata": {},
   "outputs": [
    {
     "name": "stdout",
     "output_type": "stream",
     "text": [
      "30 2000 teja\n"
     ]
    }
   ],
   "source": [
    "print(demo.a,demo.p,demo.z)"
   ]
  },
  {
   "cell_type": "code",
   "execution_count": 1,
   "id": "84f763e0",
   "metadata": {},
   "outputs": [],
   "source": [
    "from APSSDC import *"
   ]
  },
  {
   "cell_type": "code",
   "execution_count": 2,
   "id": "99ed6a1e",
   "metadata": {},
   "outputs": [
    {
     "ename": "NameError",
     "evalue": "name 'demo' is not defined",
     "output_type": "error",
     "traceback": [
      "\u001b[1;31m---------------------------------------------------------------------------\u001b[0m",
      "\u001b[1;31mNameError\u001b[0m                                 Traceback (most recent call last)",
      "\u001b[1;32m<ipython-input-2-78e623f84d88>\u001b[0m in \u001b[0;36m<module>\u001b[1;34m\u001b[0m\n\u001b[1;32m----> 1\u001b[1;33m \u001b[0mprint\u001b[0m\u001b[1;33m(\u001b[0m\u001b[0mdemo\u001b[0m\u001b[1;33m.\u001b[0m\u001b[0mp\u001b[0m\u001b[1;33m,\u001b[0m\u001b[0msou\u001b[0m\u001b[1;33m.\u001b[0m\u001b[0mname\u001b[0m\u001b[1;33m)\u001b[0m\u001b[1;33m\u001b[0m\u001b[1;33m\u001b[0m\u001b[0m\n\u001b[0m",
      "\u001b[1;31mNameError\u001b[0m: name 'demo' is not defined"
     ]
    }
   ],
   "source": [
    "print(demo.p,sou.name)"
   ]
  },
  {
   "cell_type": "code",
   "execution_count": 3,
   "id": "9ecc5002",
   "metadata": {},
   "outputs": [],
   "source": [
    "from APSSDC import demo,sou"
   ]
  },
  {
   "cell_type": "code",
   "execution_count": 4,
   "id": "dc253200",
   "metadata": {},
   "outputs": [
    {
     "name": "stdout",
     "output_type": "stream",
     "text": [
      "2000 soundarya\n"
     ]
    }
   ],
   "source": [
    "print(demo.p,sou.name)"
   ]
  },
  {
   "cell_type": "code",
   "execution_count": 5,
   "id": "4359047d",
   "metadata": {},
   "outputs": [],
   "source": [
    "from APSSDC.demo import a"
   ]
  },
  {
   "cell_type": "code",
   "execution_count": 6,
   "id": "013056b1",
   "metadata": {},
   "outputs": [
    {
     "name": "stdout",
     "output_type": "stream",
     "text": [
      "30\n"
     ]
    }
   ],
   "source": [
    "print(a)"
   ]
  },
  {
   "cell_type": "code",
   "execution_count": 9,
   "id": "6ba86da2",
   "metadata": {},
   "outputs": [],
   "source": [
    "from APSSDC.CSE import first as c\n",
    "from APSSDC.ECE import first as e"
   ]
  },
  {
   "cell_type": "code",
   "execution_count": 8,
   "id": "9dcd16c5",
   "metadata": {},
   "outputs": [
    {
     "name": "stdout",
     "output_type": "stream",
     "text": [
      "['__builtins__', '__cached__', '__doc__', '__file__', '__loader__', '__name__', '__package__', '__spec__', 'q']\n"
     ]
    }
   ],
   "source": [
    "print(dir(first))"
   ]
  },
  {
   "cell_type": "code",
   "execution_count": 10,
   "id": "d21f696e",
   "metadata": {},
   "outputs": [
    {
     "name": "stdout",
     "output_type": "stream",
     "text": [
      "['__builtins__', '__cached__', '__doc__', '__file__', '__loader__', '__name__', '__package__', '__spec__', 'm']\n",
      "['__builtins__', '__cached__', '__doc__', '__file__', '__loader__', '__name__', '__package__', '__spec__', 'q']\n"
     ]
    }
   ],
   "source": [
    "print(dir(c))\n",
    "print(dir(e))"
   ]
  },
  {
   "cell_type": "code",
   "execution_count": 12,
   "id": "50c4754d",
   "metadata": {},
   "outputs": [
    {
     "name": "stdout",
     "output_type": "stream",
     "text": [
      "first year from CSE\n",
      "first year  from ECE\n"
     ]
    }
   ],
   "source": [
    "print(c.m)\n",
    "print(e.q)"
   ]
  },
  {
   "cell_type": "code",
   "execution_count": null,
   "id": "0c95c3e9",
   "metadata": {},
   "outputs": [],
   "source": []
  }
 ],
 "metadata": {
  "kernelspec": {
   "display_name": "Python 3",
   "language": "python",
   "name": "python3"
  },
  "language_info": {
   "codemirror_mode": {
    "name": "ipython",
    "version": 3
   },
   "file_extension": ".py",
   "mimetype": "text/x-python",
   "name": "python",
   "nbconvert_exporter": "python",
   "pygments_lexer": "ipython3",
   "version": "3.7.4"
  }
 },
 "nbformat": 4,
 "nbformat_minor": 5
}
