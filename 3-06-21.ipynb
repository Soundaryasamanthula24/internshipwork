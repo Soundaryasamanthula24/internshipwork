{
 "cells": [
  {
   "cell_type": "markdown",
   "id": "9c972ab4",
   "metadata": {},
   "source": [
    "# Set"
   ]
  },
  {
   "cell_type": "code",
   "execution_count": 1,
   "id": "38768840",
   "metadata": {},
   "outputs": [
    {
     "name": "stdout",
     "output_type": "stream",
     "text": [
      "{67.9, 'a', 12, 'soundarya'}\n"
     ]
    }
   ],
   "source": [
    "s = {'a',12,'soundarya',67.90,'a'} #set doesn't allow duplicate values\n",
    "print(s)"
   ]
  },
  {
   "cell_type": "code",
   "execution_count": 2,
   "id": "81b6763f",
   "metadata": {},
   "outputs": [
    {
     "name": "stdout",
     "output_type": "stream",
     "text": [
      "{} <class 'dict'>\n",
      "{2} <class 'set'>\n"
     ]
    }
   ],
   "source": [
    "a = {}\n",
    "b = {2}\n",
    "print(a,type(a))\n",
    "print(b,type(b))"
   ]
  },
  {
   "cell_type": "code",
   "execution_count": 3,
   "id": "190e7be8",
   "metadata": {},
   "outputs": [
    {
     "name": "stdout",
     "output_type": "stream",
     "text": [
      "['__and__', '__class__', '__contains__', '__delattr__', '__dir__', '__doc__', '__eq__', '__format__', '__ge__', '__getattribute__', '__gt__', '__hash__', '__iand__', '__init__', '__init_subclass__', '__ior__', '__isub__', '__iter__', '__ixor__', '__le__', '__len__', '__lt__', '__ne__', '__new__', '__or__', '__rand__', '__reduce__', '__reduce_ex__', '__repr__', '__ror__', '__rsub__', '__rxor__', '__setattr__', '__sizeof__', '__str__', '__sub__', '__subclasshook__', '__xor__', 'add', 'clear', 'copy', 'difference', 'difference_update', 'discard', 'intersection', 'intersection_update', 'isdisjoint', 'issubset', 'issuperset', 'pop', 'remove', 'symmetric_difference', 'symmetric_difference_update', 'union', 'update']\n"
     ]
    }
   ],
   "source": [
    "print(dir(set))"
   ]
  },
  {
   "cell_type": "code",
   "execution_count": 4,
   "id": "d1412150",
   "metadata": {},
   "outputs": [
    {
     "name": "stdout",
     "output_type": "stream",
     "text": [
      "{40, 10, 'tens', 20, 30}\n"
     ]
    }
   ],
   "source": [
    "s1 = {10,20,30,40}\n",
    "s1.add(\"tens\") # we can't determine particular position to add element in a set\n",
    "print(s1)"
   ]
  },
  {
   "cell_type": "markdown",
   "id": "2d140f80",
   "metadata": {},
   "source": [
    "# Slicing is not possible n case of sets"
   ]
  },
  {
   "cell_type": "code",
   "execution_count": 5,
   "id": "377de58c",
   "metadata": {},
   "outputs": [
    {
     "name": "stdout",
     "output_type": "stream",
     "text": [
      "{40, 10, 'tens', 20, 30}\n",
      "{10, 'tens', 20, 30}\n"
     ]
    }
   ],
   "source": [
    "#using pop() function\n",
    "\n",
    "print(s1)\n",
    "s1.pop() # removes an element form a set\n",
    "print(s1) # any random element can be removed"
   ]
  },
  {
   "cell_type": "code",
   "execution_count": 7,
   "id": "0de02848",
   "metadata": {},
   "outputs": [
    {
     "name": "stdout",
     "output_type": "stream",
     "text": [
      "{200.0, 'a', 21, 's'}\n",
      "{200.0, 'a', 21}\n"
     ]
    }
   ],
   "source": [
    "# using remove() function\n",
    "\n",
    "s2 = {'a',21,'s',200.0}\n",
    "print(s2)\n",
    "s2.remove('s')\n",
    "print(s2)"
   ]
  },
  {
   "cell_type": "code",
   "execution_count": 8,
   "id": "04ed0cf5",
   "metadata": {},
   "outputs": [
    {
     "name": "stdout",
     "output_type": "stream",
     "text": [
      "{1, 2, 3, 4, 5}\n",
      "{1, 2, 3, 4, 5, 7, 8, 9}\n",
      "{1, 2, 3, 4, 5, 7, 8, 9}\n",
      "{1, 2, 3, 4, 5}\n",
      "{1, 2, 3, 4, 5, 7, 8, 9}\n"
     ]
    }
   ],
   "source": [
    "# union of sets\n",
    "\n",
    "s3 = {1,2,3,4,5}\n",
    "s4 = {2,3,4,5,5,7,8,9,2,1,1}\n",
    "print(s3)\n",
    "print(s4)\n",
    "print(s3.union(s4))\n",
    "print(s3)\n",
    "print(s4)"
   ]
  },
  {
   "cell_type": "markdown",
   "id": "d45ecbd3",
   "metadata": {},
   "source": [
    "# Dictionary\n",
    "  - key:value pairs"
   ]
  },
  {
   "cell_type": "code",
   "execution_count": 9,
   "id": "2a6f9e3a",
   "metadata": {},
   "outputs": [
    {
     "name": "stdout",
     "output_type": "stream",
     "text": [
      "{'name': ('soundarya', 'samanthula', 'Tejaswini'), 'age': 19} <class 'dict'>\n"
     ]
    }
   ],
   "source": [
    "d = {'name':(\"soundarya\",\"samanthula\",\"Tejaswini\"),'age':19}\n",
    "print(d,type(d))"
   ]
  },
  {
   "cell_type": "code",
   "execution_count": 10,
   "id": "27227efc",
   "metadata": {},
   "outputs": [
    {
     "name": "stdout",
     "output_type": "stream",
     "text": [
      "soundarya\n"
     ]
    }
   ],
   "source": [
    "print(d['name'][0])"
   ]
  },
  {
   "cell_type": "code",
   "execution_count": 11,
   "id": "5cd8ee14",
   "metadata": {},
   "outputs": [
    {
     "name": "stdout",
     "output_type": "stream",
     "text": [
      "['__class__', '__contains__', '__delattr__', '__delitem__', '__dir__', '__doc__', '__eq__', '__format__', '__ge__', '__getattribute__', '__getitem__', '__gt__', '__hash__', '__init__', '__init_subclass__', '__iter__', '__le__', '__len__', '__lt__', '__ne__', '__new__', '__reduce__', '__reduce_ex__', '__repr__', '__setattr__', '__setitem__', '__sizeof__', '__str__', '__subclasshook__', 'clear', 'copy', 'fromkeys', 'get', 'items', 'keys', 'pop', 'popitem', 'setdefault', 'update', 'values']\n"
     ]
    }
   ],
   "source": [
    "print(dir(dict))"
   ]
  },
  {
   "cell_type": "code",
   "execution_count": 12,
   "id": "da26ebeb",
   "metadata": {},
   "outputs": [
    {
     "name": "stdout",
     "output_type": "stream",
     "text": [
      "dict_keys(['name', 'age'])\n"
     ]
    }
   ],
   "source": [
    "print(d.keys()) # displays keys"
   ]
  },
  {
   "cell_type": "code",
   "execution_count": 13,
   "id": "0e788569",
   "metadata": {},
   "outputs": [
    {
     "name": "stdout",
     "output_type": "stream",
     "text": [
      "dict_values([('soundarya', 'samanthula', 'Tejaswini'), 19])\n"
     ]
    }
   ],
   "source": [
    "print(d.values()) # displays values"
   ]
  },
  {
   "cell_type": "code",
   "execution_count": 14,
   "id": "214e6ed5",
   "metadata": {},
   "outputs": [
    {
     "name": "stdout",
     "output_type": "stream",
     "text": [
      "{'name': 'soundarya', 'Age': 19, 'branch': 'CSE', 'rollnum': 521}\n"
     ]
    }
   ],
   "source": [
    "dict1 = {'name':\"soundarya\",'Age':19,'branch':\"CSE\",'rollnum':521}\n",
    "print(dict1)"
   ]
  },
  {
   "cell_type": "code",
   "execution_count": 15,
   "id": "84fdd03a",
   "metadata": {},
   "outputs": [
    {
     "name": "stdout",
     "output_type": "stream",
     "text": [
      "('name', 'soundarya')\n",
      "('Age', 19)\n",
      "('branch', 'CSE')\n",
      "('rollnum', 521)\n"
     ]
    }
   ],
   "source": [
    "for i in dict1.items():\n",
    "    print(i)"
   ]
  },
  {
   "cell_type": "code",
   "execution_count": 16,
   "id": "a11f41eb",
   "metadata": {},
   "outputs": [
    {
     "name": "stdout",
     "output_type": "stream",
     "text": [
      "dict_items([('name', 'soundarya'), ('Age', 19), ('branch', 'CSE'), ('rollnum', 521)])\n"
     ]
    }
   ],
   "source": [
    "print(dict1.items()) # displays key value pairs in a list-tuple format"
   ]
  },
  {
   "cell_type": "code",
   "execution_count": 17,
   "id": "cc2630c5",
   "metadata": {},
   "outputs": [
    {
     "name": "stdout",
     "output_type": "stream",
     "text": [
      "dict_items([('name', ('soundarya', 'samanthula', 'Tejaswini')), ('age', 19)])\n"
     ]
    }
   ],
   "source": [
    "print(d.items())"
   ]
  },
  {
   "cell_type": "code",
   "execution_count": 18,
   "id": "bee8369a",
   "metadata": {},
   "outputs": [
    {
     "name": "stdout",
     "output_type": "stream",
     "text": [
      "521\n",
      "soundarya\n"
     ]
    }
   ],
   "source": [
    "print(dict1.get('rollnum')) # displays value of that particular key\n",
    "print(dict1.get('name'))"
   ]
  },
  {
   "cell_type": "code",
   "execution_count": 19,
   "id": "edffff53",
   "metadata": {},
   "outputs": [
    {
     "name": "stdout",
     "output_type": "stream",
     "text": [
      "{'name': 'soundarya', 'Age': 19, 'branch': 'CSE', 'rollnum': 521}\n",
      "{'name': ['soundarya', 'samanthula'], 'Age': 19, 'branch': 'CSE', 'rollnum': 521}\n"
     ]
    }
   ],
   "source": [
    "print(dict1)\n",
    "dict1['name'] = ['soundarya','samanthula']\n",
    "print(dict1)"
   ]
  },
  {
   "cell_type": "code",
   "execution_count": 20,
   "id": "bfe0c543",
   "metadata": {},
   "outputs": [
    {
     "name": "stdout",
     "output_type": "stream",
     "text": [
      "{'name': ['soundarya', 'samanthula'], 'Age': 19, 'branch': 'CSE', 'rollnum': 521}\n",
      "{'name': ['soundarya', 'samanthula'], 'Age': 19, 'branch': 'CSE', 'rollnum': 521, 'null': None}\n"
     ]
    }
   ],
   "source": [
    "print(dict1)\n",
    "dict1.setdefault('null')\n",
    "print(dict1)"
   ]
  },
  {
   "cell_type": "code",
   "execution_count": 21,
   "id": "19c9487b",
   "metadata": {},
   "outputs": [
    {
     "name": "stdout",
     "output_type": "stream",
     "text": [
      "{'name': ['soundarya', 'samanthula'], 'Age': 19, 'branch': 'CSE', 'rollnum': 521, 'null': None}\n",
      "{'name': ['soundarya', 'samanthula'], 'Age': 19, 'branch': 'CSE', 'rollnum': 521, 'null': 'college'}\n"
     ]
    }
   ],
   "source": [
    "print(dict1)\n",
    "dict1.update({'null':'college'})\n",
    "print(dict1)"
   ]
  },
  {
   "cell_type": "code",
   "execution_count": 22,
   "id": "90182f6a",
   "metadata": {},
   "outputs": [],
   "source": [
    "dict5={}"
   ]
  },
  {
   "cell_type": "code",
   "execution_count": 23,
   "id": "81a09625",
   "metadata": {},
   "outputs": [
    {
     "name": "stdout",
     "output_type": "stream",
     "text": [
      "{'name': ['soundarya', 'samanthula'], 'Age': 19, 'branch': 'CSE', 'rollnum': 521, 'null': 'college'}\n",
      "{'name': ['soundarya', 'samanthula'], 'Age': 19, 'branch': 'CSE', 'rollnum': 521}\n"
     ]
    }
   ],
   "source": [
    "print(dict1)\n",
    "dict1.pop('null') # removes specified item\n",
    "print(dict1)"
   ]
  },
  {
   "cell_type": "code",
   "execution_count": 24,
   "id": "8dc0c194",
   "metadata": {},
   "outputs": [
    {
     "name": "stdout",
     "output_type": "stream",
     "text": [
      "{'name': ['soundarya', 'samanthula'], 'Age': 19, 'branch': 'CSE', 'rollnum': 521}\n",
      "('rollnum', 521)\n",
      "{'name': ['soundarya', 'samanthula'], 'Age': 19, 'branch': 'CSE'}\n"
     ]
    }
   ],
   "source": [
    "print(dict1)\n",
    "print(dict1.popitem()) # removes last item in the dictionary\n",
    "print(dict1)"
   ]
  },
  {
   "cell_type": "code",
   "execution_count": 25,
   "id": "d9e36605",
   "metadata": {},
   "outputs": [
    {
     "name": "stdout",
     "output_type": "stream",
     "text": [
      "[1, 2, 3, 4]\n",
      "['a', 'b', 'c', 'd']\n",
      "{'a': None, 'b': None, 'c': None, 'd': None}\n",
      "{1: None, 2: None, 3: None, 4: None}\n"
     ]
    }
   ],
   "source": [
    "# Using fromkeys\n",
    "\n",
    "k = [1,2,3,4]\n",
    "v = ['a','b','c','d']\n",
    "print(k)\n",
    "print(v)\n",
    "dict2={}\n",
    "dict2 = dict.fromkeys(k)\n",
    "print(dict.fromkeys(v))\n",
    "print(dict2)"
   ]
  },
  {
   "cell_type": "code",
   "execution_count": 27,
   "id": "9620e6ab",
   "metadata": {},
   "outputs": [
    {
     "name": "stdout",
     "output_type": "stream",
     "text": [
      "{'maths': [90, 89, 87], 'python': [90, 89, 87], 'C': [90, 89, 87]}\n"
     ]
    }
   ],
   "source": [
    "marks = {}.fromkeys(['maths','python','C'],[90,89,87])\n",
    "print(marks)"
   ]
  },
  {
   "cell_type": "code",
   "execution_count": 28,
   "id": "22838166",
   "metadata": {},
   "outputs": [
    {
     "name": "stdout",
     "output_type": "stream",
     "text": [
      "{'maths': 90, 'python': 90, 'C': 90}\n"
     ]
    }
   ],
   "source": [
    "marks = {}.fromkeys(['maths','python','C'],90)\n",
    "print(marks)"
   ]
  },
  {
   "cell_type": "markdown",
   "id": "ea31cca7",
   "metadata": {},
   "source": [
    "# Task - contact application"
   ]
  },
  {
   "cell_type": "code",
   "execution_count": 29,
   "id": "74b5359d",
   "metadata": {},
   "outputs": [
    {
     "name": "stdout",
     "output_type": "stream",
     "text": [
      "1.Enter new record \n",
      " 2.Display all records \n",
      " 3.Update record \n",
      " 4.Delete record\n",
      "Select any option from above for Contact Application: 1\n",
      "Dictionary is empty! Enter no. of records you want to create: 3\n",
      "Enter your name: sss\n",
      "Enter your mobile number: 3456\n",
      "Enter your name: aaaa\n",
      "Enter your mobile number: 678\n",
      "Enter your name: ttt\n",
      "Enter your mobile number: 6788\n",
      "Details Saved successfully...\n",
      "Entered records are: \n",
      "Name \tmobile number\n",
      "aaaa \t 678\n",
      "sss \t 3456\n",
      "ttt \t 6788\n",
      "Press 2 to display records\n",
      "Press 3 to update a record\n",
      "Press 4 to delete record\n",
      "Enter your Choice: 2\n",
      "Displaying Records...\n",
      "Name \tmobile number\n",
      "aaaa \t 678\n",
      "sss \t 3456\n",
      "ttt \t 6788\n"
     ]
    }
   ],
   "source": [
    "print(\"1.Enter new record \\n 2.Display all records \\n 3.Update record \\n 4.Delete record\")\n",
    "n = int(input(\"Select any option from above for Contact Application: \"))\n",
    "d1={}\n",
    "d2={}\n",
    "#Creating records in a empty dictionary\n",
    "if(n==1 or n==3):\n",
    "    m1 = int(input(\"Dictionary is empty! Enter no. of records you want to create: \"))\n",
    "    # Creating multiple records using for loop\n",
    "    for i in range(1, m1+1):\n",
    "        name = input(\"Enter your name: \")\n",
    "        if name in d1:\n",
    "            print(name,\"Already exists\")\n",
    "        else:\n",
    "            num = int(input(\"Enter your mobile number: \"))\n",
    "            d1[name] = num\n",
    "    print(\"Details Saved successfully...\")\n",
    "    print(\"Entered records are: \")\n",
    "    print(\"Name \\tmobile number\")\n",
    "    for name,num in sorted(d1.items()):\n",
    "        print(name,\"\\t\",num)\n",
    "    print(\"Press 2 to display records\\nPress 3 to update a record\\nPress 4 to delete record\")\n",
    "    m = int(input(\"Enter your Choice: \"))\n",
    "    # display or update or deletion based on choice\n",
    "    if(m==2):\n",
    "        print(\"Displaying Records...\")\n",
    "        print(\"Name \\tmobile number\")\n",
    "        for name,num in sorted(d1.items()):\n",
    "            print(name,\"\\t\",num)\n",
    "    # updating record in existing dictionary\n",
    "    elif(m==3):\n",
    "        name = input(\"Enter your name: \")\n",
    "        if name in d1:\n",
    "            print(name,\"Record already exists.\")\n",
    "        else:\n",
    "            num = int(input(\"Enter your mobile number: \"))\n",
    "            d2[name] = num\n",
    "            d1.update(d2)\n",
    "            print(\"Record successfully Updated...\")\n",
    "        print(\"After updation, the records are: \")\n",
    "        print(\"Name \\tmobile number\")\n",
    "        for name,num in sorted(d1.items()):\n",
    "            print(name,\"\\t\",num)\n",
    "    # deleting record in dictionary\n",
    "    elif(m==4):\n",
    "        name1 = input(\"Enter a name to delete in the record: \")\n",
    "        if name1 in d1:\n",
    "            d1.pop(name1)\n",
    "            print(\"record deleted..\")\n",
    "            print(\"After deletion, the records are: \")\n",
    "            print(\"Name \\tmobile number\")\n",
    "            for name,num in sorted(d1.items()):\n",
    "                print(name,\"\\t\",num)\n",
    "        else:\n",
    "            print(\"Name doesn't exist\")\n",
    "elif(n==2 or n==4):\n",
    "    print(\"Empty record\")\n",
    "else:\n",
    "    print(\"Please enter a right option\")"
   ]
  },
  {
   "cell_type": "code",
   "execution_count": null,
   "id": "2abfb3c8",
   "metadata": {},
   "outputs": [],
   "source": []
  }
 ],
 "metadata": {
  "kernelspec": {
   "display_name": "Python 3",
   "language": "python",
   "name": "python3"
  },
  "language_info": {
   "codemirror_mode": {
    "name": "ipython",
    "version": 3
   },
   "file_extension": ".py",
   "mimetype": "text/x-python",
   "name": "python",
   "nbconvert_exporter": "python",
   "pygments_lexer": "ipython3",
   "version": "3.7.4"
  }
 },
 "nbformat": 4,
 "nbformat_minor": 5
}
