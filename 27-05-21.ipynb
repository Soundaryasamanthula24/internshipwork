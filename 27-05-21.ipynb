{
 "cells": [
  {
   "cell_type": "code",
   "execution_count": 1,
   "id": "f3ec547a",
   "metadata": {},
   "outputs": [
    {
     "name": "stdout",
     "output_type": "stream",
     "text": [
      "Enter roll number count: 21\n",
      "19KQ1A0501\n",
      "19KQ1A0502\n",
      "19KQ1A0503\n",
      "19KQ1A0504\n",
      "19KQ1A0505\n",
      "19KQ1A0506\n",
      "19KQ1A0507\n",
      "19KQ1A0508\n",
      "19KQ1A0509\n",
      "19KQ1A0510\n",
      "19KQ1A0511\n",
      "19KQ1A0512\n",
      "19KQ1A0513\n",
      "19KQ1A0514\n",
      "19KQ1A0515\n",
      "19KQ1A0516\n",
      "19KQ1A0517\n",
      "19KQ1A0518\n",
      "19KQ1A0519\n",
      "19KQ1A0520\n",
      "19KQ1A0521\n"
     ]
    }
   ],
   "source": [
    "n=int(input(\"Enter roll number count: \"))\n",
    "for i in range(1,n+1):\n",
    "    print(\"19KQ1A05{:02}\".format(i)) #writing single digits as tens place digits"
   ]
  },
  {
   "cell_type": "markdown",
   "id": "0fc77fd7",
   "metadata": {},
   "source": [
    "# While --> Unknown ranges, known ranges\n",
    "``` Syntax:\n",
    "\n",
    "varaible initialisation\n",
    "\n",
    "while(condition):\n",
    "    \n",
    "    //statements\n",
    "    //increment or decrement"
   ]
  },
  {
   "cell_type": "code",
   "execution_count": 1,
   "id": "b68e3af3",
   "metadata": {},
   "outputs": [
    {
     "name": "stdout",
     "output_type": "stream",
     "text": [
      "21\n",
      "21 22 23 24 25 26 27 28 29 30 31 32 33 34 35 36 37 38 39 40 41 "
     ]
    }
   ],
   "source": [
    "n=int(input())\n",
    "while n!=42:\n",
    "    print(n,end=' ')\n",
    "    n=n+1"
   ]
  },
  {
   "cell_type": "code",
   "execution_count": 1,
   "id": "1efcaad3",
   "metadata": {},
   "outputs": [
    {
     "name": "stdout",
     "output_type": "stream",
     "text": [
      "42\n",
      "42 41 40 39 38 37 36 35 34 33 32 31 30 29 28 27 26 25 24 23 22 21 "
     ]
    }
   ],
   "source": [
    "n=int(input())\n",
    "while n!=20:\n",
    "    print(n,end=' ')\n",
    "    n=n-1"
   ]
  },
  {
   "cell_type": "code",
   "execution_count": 2,
   "id": "47b5a639",
   "metadata": {},
   "outputs": [
    {
     "name": "stdout",
     "output_type": "stream",
     "text": [
      "Enter a number: 34\n",
      "1 2 3 4 5 6 7 8 9 10 11 12 13 14 15 16 17 18 19 20 21 22 23 24 25 26 27 28 29 30 31 32 33 "
     ]
    }
   ],
   "source": [
    "num = int(input(\"Enter a number: \"))\n",
    "i=1\n",
    "while num!=i:\n",
    "    print(i,end=' ')\n",
    "    i=i+1"
   ]
  },
  {
   "cell_type": "code",
   "execution_count": 3,
   "id": "d042995b",
   "metadata": {},
   "outputs": [
    {
     "name": "stdout",
     "output_type": "stream",
     "text": [
      "Enter a number:57\n",
      "Given number is 57 and its reverse is: 75\n"
     ]
    }
   ],
   "source": [
    "# Finding reverse of a number using while loop\n",
    "num = int(input(\"Enter a number:\"))\n",
    "originalnum = num\n",
    "temp = 0\n",
    "while(num > 0):\n",
    "    temp = temp*10+num%10\n",
    "    num = num//10\n",
    "print(\"Given number is {} and its reverse is: {}\".format(originalnum,temp))"
   ]
  },
  {
   "cell_type": "code",
   "execution_count": 5,
   "id": "2a3a2410",
   "metadata": {},
   "outputs": [
    {
     "name": "stdout",
     "output_type": "stream",
     "text": [
      "Enter a number:45\n",
      "Given number is 45\n",
      "Reverse of the number is: 54\n",
      "Given number is 45 and its reverse is: 54\n"
     ]
    }
   ],
   "source": [
    "# Finding reverse of a number using while loop\n",
    "num = int(input(\"Enter a number:\"))\n",
    "originalnum = num\n",
    "temp = 0\n",
    "while(num > 0):\n",
    "    temp = temp*10+num%10\n",
    "    num = num//10\n",
    "print(\"Given number is {}\\nReverse of the number is: {}\\nGiven number is {} and its reverse is: {}\".format(originalnum,temp,originalnum,temp))"
   ]
  },
  {
   "cell_type": "markdown",
   "id": "7c81b69c",
   "metadata": {},
   "source": [
    "# Jumping Statements\n",
    "```` Jumping Statements are\n",
    "\n",
    " 1. break -> exit\n",
    " 2. continue -> skip\n",
    " 3. pass -> skip nothing will return\n",
    " 4. return -> values to be sent for function"
   ]
  },
  {
   "cell_type": "code",
   "execution_count": 6,
   "id": "77f805c2",
   "metadata": {},
   "outputs": [
    {
     "name": "stdout",
     "output_type": "stream",
     "text": [
      "Enter a number: 24\n",
      "0 1 2 3 4 5 6 7 8 9 10 11 12 13 14 15 16 17 18 19 "
     ]
    }
   ],
   "source": [
    "#Break statement\n",
    "\n",
    "n = int(input(\"Enter a number: \"))\n",
    "for i in range(n+1):\n",
    "    if i==20:\n",
    "        break\n",
    "    else:\n",
    "        print(i,end=\" \")"
   ]
  },
  {
   "cell_type": "code",
   "execution_count": 7,
   "id": "7437fdf6",
   "metadata": {},
   "outputs": [
    {
     "name": "stdout",
     "output_type": "stream",
     "text": [
      "Enter a number: 24\n",
      "0 1 2 3 4 5 6 7 8 9 10 11 12 13 14 15 16 17 18 19 21 22 23 24 \n",
      " 24\n"
     ]
    }
   ],
   "source": [
    "#Continue Statement\n",
    "\n",
    "n = int(input(\"Enter a number: \"))\n",
    "for i in range(n+1):\n",
    "    if i==20:\n",
    "        continue\n",
    "    else:\n",
    "        print(i,end=\" \")\n",
    "print(\"\\n\",i)"
   ]
  },
  {
   "cell_type": "code",
   "execution_count": 8,
   "id": "471be4a8",
   "metadata": {},
   "outputs": [
    {
     "name": "stdout",
     "output_type": "stream",
     "text": [
      "Enter a number: 24\n",
      "0 1 2 3 4 5 6 7 8 9 10 11 12 13 14 15 16 17 18 19 21 22 23 24 "
     ]
    }
   ],
   "source": [
    "n = int(input(\"Enter a number: \"))\n",
    "for i in range(n+1):\n",
    "    if i==20:\n",
    "        pass\n",
    "    else:\n",
    "        print(i,end=\" \")"
   ]
  },
  {
   "cell_type": "code",
   "execution_count": 9,
   "id": "75cd6ba7",
   "metadata": {},
   "outputs": [
    {
     "name": "stdout",
     "output_type": "stream",
     "text": [
      "h\n",
      "e\n",
      "l\n",
      "l\n",
      "o\n"
     ]
    }
   ],
   "source": [
    "for i in 'hello':\n",
    "    if(i=='e'):\n",
    "        pass\n",
    "    print(i)"
   ]
  },
  {
   "cell_type": "code",
   "execution_count": 10,
   "id": "60d7c8e0",
   "metadata": {},
   "outputs": [
    {
     "name": "stdout",
     "output_type": "stream",
     "text": [
      "h\n",
      "l\n",
      "l\n",
      "o\n"
     ]
    }
   ],
   "source": [
    "for i in 'hello':\n",
    "    if(i=='e'):\n",
    "        continue\n",
    "    print(i)"
   ]
  },
  {
   "cell_type": "markdown",
   "id": "c38e9b93",
   "metadata": {},
   "source": [
    "# Inner Loops\n",
    "``` Loop within a Loop Syntax: for i in range(): for j in range(): if(Condition): //statements else: //statements print('\\n')"
   ]
  },
  {
   "cell_type": "code",
   "execution_count": 11,
   "id": "0cca7e55",
   "metadata": {},
   "outputs": [
    {
     "name": "stdout",
     "output_type": "stream",
     "text": [
      "1 2 3 4 5 6 7 \n",
      "1 2 3 4 5 6 7 \n",
      "1 2 3 4 5 6 7 \n",
      "1 2 3 4 5 6 7 \n",
      "1 2 3 4 5 6 7 \n"
     ]
    }
   ],
   "source": [
    "for i in range(1,6):\n",
    "    for j in range(1,8):\n",
    "        print(j,end=\" \")\n",
    "    print(end=\"\\n\")"
   ]
  },
  {
   "cell_type": "code",
   "execution_count": 12,
   "id": "8a01d5d7",
   "metadata": {},
   "outputs": [
    {
     "name": "stdout",
     "output_type": "stream",
     "text": [
      "1 1 1 1 1 1 1 \n",
      "2 2 2 2 2 2 2 \n",
      "3 3 3 3 3 3 3 \n",
      "4 4 4 4 4 4 4 \n",
      "5 5 5 5 5 5 5 \n"
     ]
    }
   ],
   "source": [
    "for i in range(1,6):\n",
    "    for j in range(1,8):\n",
    "        print(i,end=\" \")\n",
    "    print(end=\"\\n\")"
   ]
  },
  {
   "cell_type": "code",
   "execution_count": 13,
   "id": "6c4c8fc9",
   "metadata": {},
   "outputs": [
    {
     "name": "stdout",
     "output_type": "stream",
     "text": [
      "01 02 03 04 05 06 07 \n",
      "08 09 10 11 12 13 14 \n",
      "15 16 17 18 19 20 21 \n",
      "22 23 24 25 26 27 28 \n",
      "29 30 31 \n"
     ]
    }
   ],
   "source": [
    "a=1\n",
    "for i in range(1,6):\n",
    "    for j in range(1,8):\n",
    "        if a<=31:\n",
    "                print(\"{:02}\".format(a),end=\" \")\n",
    "        else:\n",
    "            break\n",
    "        a+=1\n",
    "    print(end=\"\\n\")"
   ]
  },
  {
   "cell_type": "code",
   "execution_count": 14,
   "id": "58c913ba",
   "metadata": {},
   "outputs": [
    {
     "name": "stdout",
     "output_type": "stream",
     "text": [
      "01 ** 03 ** 05 ** 07 \n",
      "** 09 ** 11 ** 13 ** \n",
      "15 ** 17 ** 19 ** 21 \n",
      "** 23 ** 25 ** 27 ** \n",
      "29 ** 31 \n"
     ]
    }
   ],
   "source": [
    "#printing stars instead of even numbers\n",
    "a=1\n",
    "for i in range(1,6):\n",
    "    for j in range(1,8):\n",
    "        if a<=31:\n",
    "            if(a%2==0):\n",
    "                print(\"**\",end=\" \")\n",
    "            else:\n",
    "                print(\"{:02}\".format(a),end=\" \")\n",
    "        else:\n",
    "            break\n",
    "        a+=1\n",
    "    print(end=\"\\n\")"
   ]
  },
  {
   "cell_type": "code",
   "execution_count": 15,
   "id": "9bab8908",
   "metadata": {},
   "outputs": [
    {
     "name": "stdout",
     "output_type": "stream",
     "text": [
      "01 ** 03 ** ## ** 07 \n",
      "** 09 ## 11 ** 13 ** \n",
      "## ** 17 ** 19 ## 21 \n",
      "** 23 ** ## ** 27 ** \n",
      "29 ## 31 \n"
     ]
    }
   ],
   "source": [
    "#printing stars instead of even numbers and hash symbols instead of 5 multiples\n",
    "a=1\n",
    "for i in range(1,6):\n",
    "    for j in range(1,8):\n",
    "        if a<=31:\n",
    "            if(a%5==0):\n",
    "                print(\"##\",end=\" \")\n",
    "            elif(a%2==0):\n",
    "                print(\"**\",end=\" \")\n",
    "            else:\n",
    "                print(\"{:02}\".format(a),end=\" \")\n",
    "        else:\n",
    "            break\n",
    "        a+=1\n",
    "    print(end=\"\\n\")"
   ]
  },
  {
   "cell_type": "code",
   "execution_count": 16,
   "id": "fa495598",
   "metadata": {},
   "outputs": [
    {
     "name": "stdout",
     "output_type": "stream",
     "text": [
      "[] ** () ** ## ** [] \n",
      "** () ## [] ** [] ** \n",
      "## ** [] ** [] ## () \n",
      "** [] ** ## ** () ** \n",
      "[] ## [] \n"
     ]
    }
   ],
   "source": [
    "#printing stars instead of even numbers and hash symbols instead of 5 multiples\n",
    "#printing () instead of 3 multiples and [] for remaining numbers\n",
    "# 3rd column must be filled with || symbols\n",
    "a=1\n",
    "for i in range(1,6):\n",
    "    for j in range(1,8):\n",
    "        if a<=31:\n",
    "            if(a%5==0):\n",
    "                print(\"##\",end=\" \")\n",
    "            elif(a%2==0):\n",
    "                print(\"**\",end=\" \")\n",
    "            elif(a%3==0):\n",
    "                print(\"()\",end=\" \")\n",
    "            else:\n",
    "                print(\"[]\",end=\" \")\n",
    "        else:\n",
    "            break\n",
    "        a+=1\n",
    "    print(end=\"\\n\")"
   ]
  },
  {
   "cell_type": "code",
   "execution_count": 17,
   "id": "502ad214",
   "metadata": {},
   "outputs": [
    {
     "name": "stdout",
     "output_type": "stream",
     "text": [
      "[] ** || ** [] ** [] \n",
      "** () || [] ** [] ** \n",
      "() ** || ** [] ** () \n",
      "** [] || [] ** () ** \n",
      "[] ** || \n"
     ]
    }
   ],
   "source": [
    "#printing stars instead of even numbers and hash symbols instead of 5 multiples\n",
    "#printing () instead of 3 multiples and [] for remaining numbers\n",
    "a=1\n",
    "for i in range(1,6):\n",
    "    for j in range(1,8):\n",
    "        if a<=31:\n",
    "            if(j==3):\n",
    "                print(\"||\",end=\" \")\n",
    "            elif(a%2==0):\n",
    "                print(\"**\",end=\" \")\n",
    "            elif(a%3==0):\n",
    "                print(\"()\",end=\" \")\n",
    "            else:\n",
    "                print(\"[]\",end=\" \")\n",
    "        else:\n",
    "            break\n",
    "        a+=1\n",
    "    print(end=\"\\n\")"
   ]
  },
  {
   "cell_type": "code",
   "execution_count": 18,
   "id": "b400d155",
   "metadata": {},
   "outputs": [
    {
     "name": "stdout",
     "output_type": "stream",
     "text": [
      "[] ** () ** [] ** [] \n",
      "&& && && && && && && \n",
      "() ** [] ** [] ** () \n",
      "** [] ** [] ** () ** \n",
      "[] ** [] \n"
     ]
    }
   ],
   "source": [
    "#printing stars instead of even numbers and hash symbols instead of 5 multiples\n",
    "#printing () instead of 3 multiples and [] for remaining numbers\n",
    "# 2nd row must be filled with && symbols\n",
    "a=1\n",
    "for i in range(1,6):\n",
    "    for j in range(1,8):\n",
    "        if a<=31:\n",
    "            if(i==2):\n",
    "                print(\"&&\",end=\" \")\n",
    "            elif(a%2==0):\n",
    "                print(\"**\",end=\" \")\n",
    "            elif(a%3==0):\n",
    "                print(\"()\",end=\" \")\n",
    "            else:\n",
    "                print(\"[]\",end=\" \")\n",
    "        else:\n",
    "            break\n",
    "        a+=1\n",
    "    print(end=\"\\n\")"
   ]
  },
  {
   "cell_type": "code",
   "execution_count": null,
   "id": "062ab727",
   "metadata": {},
   "outputs": [],
   "source": []
  }
 ],
 "metadata": {
  "kernelspec": {
   "display_name": "Python 3",
   "language": "python",
   "name": "python3"
  },
  "language_info": {
   "codemirror_mode": {
    "name": "ipython",
    "version": 3
   },
   "file_extension": ".py",
   "mimetype": "text/x-python",
   "name": "python",
   "nbconvert_exporter": "python",
   "pygments_lexer": "ipython3",
   "version": "3.7.4"
  }
 },
 "nbformat": 4,
 "nbformat_minor": 5
}
